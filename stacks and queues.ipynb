{
 "cells": [
  {
   "cell_type": "markdown",
   "id": "ea9224de",
   "metadata": {},
   "source": [
    "## Stacks using linked lists"
   ]
  },
  {
   "cell_type": "code",
   "execution_count": 1,
   "id": "bc6b97a9",
   "metadata": {},
   "outputs": [],
   "source": [
    "class Node:\n",
    "    def __init__(self,value=None):\n",
    "        self.next=None\n",
    "        self.value=value\n",
    "\n",
    "class linked_list:\n",
    "    def __init__(self):\n",
    "        self.head=None\n",
    "    \n",
    "    def __iter__(self):\n",
    "        temp_node=self.head\n",
    "        while temp_node:\n",
    "            yield temp_node\n",
    "            temp_node=temp_node.next\n",
    "\n",
    "class Stack1:\n",
    "    def __init__(self):\n",
    "        self.linked_list=linked_list()\n",
    "    \n",
    "    def __str__(self):\n",
    "        values = [str(node.value) for node in self.linked_list]\n",
    "        return '\\n'.join(values)\n",
    "\n",
    "    def is_empty(self):\n",
    "        if self.linked_list.head is None:\n",
    "            return 'stack is empty'\n",
    "        return 'stack is not empty'\n",
    "    \n",
    "    def create(self,value):\n",
    "        new_node=Node(value)\n",
    "        if self.linked_list.head is not None:\n",
    "            self.linked_list.head=None\n",
    "            self.linked_list.head=new_node\n",
    "        else:\n",
    "            self.linked_list.head=new_node\n",
    "    \n",
    "    def push(self,value):\n",
    "        new_node=Node(value)\n",
    "        if self.linked_list.head is None:\n",
    "            return 'create a stack first'\n",
    "        else:\n",
    "            new_node.next=self.linked_list.head\n",
    "            self.linked_list.head=new_node\n",
    "    \n",
    "    def pop(self):\n",
    "        if self.linked_list.head is None:\n",
    "            return 'stack is empty'\n",
    "        else:\n",
    "            temp_node=self.head\n",
    "            self.linked_list.head=self.linked_list.head.next\n",
    "            return temp_node.value\n",
    "    \n",
    "    def peek(self):\n",
    "        if self.linked_list.head is None:\n",
    "            return 'stack is empty'\n",
    "        else:\n",
    "            return self.linked_list.head.value\n",
    "    \n",
    "    def delete_all(self):\n",
    "        self.linked_list.head=None\n",
    "        "
   ]
  },
  {
   "cell_type": "code",
   "execution_count": 2,
   "id": "594db4c4",
   "metadata": {},
   "outputs": [],
   "source": [
    "stack=Stack1()"
   ]
  },
  {
   "cell_type": "code",
   "execution_count": 3,
   "id": "929f1497",
   "metadata": {},
   "outputs": [],
   "source": [
    "stack.create(4)"
   ]
  },
  {
   "cell_type": "code",
   "execution_count": 4,
   "id": "3dc1892e",
   "metadata": {},
   "outputs": [
    {
     "name": "stdout",
     "output_type": "stream",
     "text": [
      "4\n"
     ]
    }
   ],
   "source": [
    "print(stack)"
   ]
  },
  {
   "cell_type": "code",
   "execution_count": 5,
   "id": "294c6953",
   "metadata": {},
   "outputs": [],
   "source": [
    "stack.push(343)\n",
    "stack.push(357)\n",
    "stack.push(2343)\n",
    "stack.push(32)\n",
    "stack.push(36)"
   ]
  },
  {
   "cell_type": "code",
   "execution_count": 6,
   "id": "cebb2307",
   "metadata": {},
   "outputs": [
    {
     "name": "stdout",
     "output_type": "stream",
     "text": [
      "36\n",
      "32\n",
      "2343\n",
      "357\n",
      "343\n",
      "4\n"
     ]
    }
   ],
   "source": [
    "print(stack)"
   ]
  },
  {
   "cell_type": "markdown",
   "id": "2f2001e0",
   "metadata": {},
   "source": [
    "## Stack using Lists(no restriction on size)"
   ]
  },
  {
   "cell_type": "code",
   "execution_count": 65,
   "id": "70b0a560",
   "metadata": {},
   "outputs": [],
   "source": [
    "class Stack2:\n",
    "    def __init__(self):\n",
    "        self.list=[]\n",
    "        \n",
    "    def __str__(self):\n",
    "        values=[str(value) for value in self.list]\n",
    "        return '\\n'.join(values)\n",
    "    \n",
    "    def is_empty(self):\n",
    "        if len(self.list)==0:\n",
    "            return 'stack is empty'\n",
    "        return 'stack is not empty'\n",
    "    \n",
    "    def create(self,value):\n",
    "        self.list=[]\n",
    "        self.list.append(value)\n",
    "    \n",
    "    def push(self,value):\n",
    "        if len(self.list)==0:\n",
    "            return 'create a stack first'\n",
    "        else:\n",
    "            self.list.insert(0,value)\n",
    "    \n",
    "    def pop(self):\n",
    "        if len(self.list)==0:\n",
    "            return 'nothin to pop'\n",
    "        else:\n",
    "            popped=self.list.pop(0)\n",
    "            return popped\n",
    "    \n",
    "    def peek(self):\n",
    "        if len(self.list)==0:\n",
    "            return 'stack is empty'\n",
    "        else:\n",
    "            return self.list[0]\n",
    "    \n",
    "    def delete(self):\n",
    "        self.list=[]\n"
   ]
  },
  {
   "cell_type": "code",
   "execution_count": 66,
   "id": "3e614dec",
   "metadata": {},
   "outputs": [],
   "source": [
    "stack=Stack2()"
   ]
  },
  {
   "cell_type": "code",
   "execution_count": 67,
   "id": "7f112052",
   "metadata": {},
   "outputs": [
    {
     "data": {
      "text/plain": [
       "'stack is empty'"
      ]
     },
     "execution_count": 67,
     "metadata": {},
     "output_type": "execute_result"
    }
   ],
   "source": [
    "stack.is_empty()"
   ]
  },
  {
   "cell_type": "code",
   "execution_count": 68,
   "id": "3f9d896a",
   "metadata": {},
   "outputs": [
    {
     "name": "stdout",
     "output_type": "stream",
     "text": [
      "4\n"
     ]
    }
   ],
   "source": [
    "stack.create(4)\n",
    "print(stack)"
   ]
  },
  {
   "cell_type": "code",
   "execution_count": 69,
   "id": "42fc490e",
   "metadata": {},
   "outputs": [
    {
     "data": {
      "text/plain": [
       "'stack is not empty'"
      ]
     },
     "execution_count": 69,
     "metadata": {},
     "output_type": "execute_result"
    }
   ],
   "source": [
    "stack.is_empty()"
   ]
  },
  {
   "cell_type": "code",
   "execution_count": 70,
   "id": "7983ae0e",
   "metadata": {},
   "outputs": [],
   "source": [
    "stack.push(30)\n",
    "stack.push(670)\n",
    "stack.push(332)\n",
    "stack.push(367)\n",
    "stack.push(4)\n",
    "stack.push(8)"
   ]
  },
  {
   "cell_type": "code",
   "execution_count": 71,
   "id": "a85a9a03",
   "metadata": {},
   "outputs": [
    {
     "name": "stdout",
     "output_type": "stream",
     "text": [
      "8\n",
      "4\n",
      "367\n",
      "332\n",
      "670\n",
      "30\n",
      "4\n"
     ]
    }
   ],
   "source": [
    "print(stack)"
   ]
  },
  {
   "cell_type": "code",
   "execution_count": 72,
   "id": "e969068b",
   "metadata": {},
   "outputs": [
    {
     "data": {
      "text/plain": [
       "8"
      ]
     },
     "execution_count": 72,
     "metadata": {},
     "output_type": "execute_result"
    }
   ],
   "source": [
    "stack.pop()"
   ]
  },
  {
   "cell_type": "code",
   "execution_count": 73,
   "id": "f0567837",
   "metadata": {},
   "outputs": [
    {
     "data": {
      "text/plain": [
       "4"
      ]
     },
     "execution_count": 73,
     "metadata": {},
     "output_type": "execute_result"
    }
   ],
   "source": [
    "stack.peek()"
   ]
  },
  {
   "cell_type": "code",
   "execution_count": 74,
   "id": "2f954955",
   "metadata": {},
   "outputs": [
    {
     "name": "stdout",
     "output_type": "stream",
     "text": [
      "\n"
     ]
    }
   ],
   "source": [
    "stack.delete()\n",
    "print(stack)"
   ]
  },
  {
   "cell_type": "markdown",
   "id": "6f502c34",
   "metadata": {},
   "source": [
    "## Stack with size limit"
   ]
  },
  {
   "cell_type": "code",
   "execution_count": 84,
   "id": "f78df7a8",
   "metadata": {},
   "outputs": [],
   "source": [
    "class Stack3:\n",
    "    def __init__(self,max_size):\n",
    "        self.list=[]\n",
    "        self.max_size=max_size\n",
    "        \n",
    "    def __str__(self):\n",
    "        values = [str(x) for x in self.list]\n",
    "        return '\\n'.join(values)\n",
    "    \n",
    "    def is_empty(self):\n",
    "        if len(self.list)==0:\n",
    "            return 'empty'\n",
    "        return 'not empty'\n",
    "    \n",
    "    def is_full(self):\n",
    "        if len(self.list)==self.max_size:\n",
    "            return 'full'\n",
    "        return 'not full'\n",
    "    \n",
    "    def create(self,value):\n",
    "        if not self.is_full():\n",
    "            self.list=[]\n",
    "            self.list.append(value)\n",
    "        else:\n",
    "            print('stack size is 0')\n",
    "    \n",
    "    def push(self,value):\n",
    "        if not is_full():\n",
    "            self.list.insert(0,value)\n",
    "        else:\n",
    "            return 'stack is full'\n",
    "    \n",
    "    def pop(self,value):\n",
    "        "
   ]
  },
  {
   "cell_type": "code",
   "execution_count": 85,
   "id": "56aa02b3",
   "metadata": {},
   "outputs": [],
   "source": [
    "stack = Stack3(5)"
   ]
  },
  {
   "cell_type": "code",
   "execution_count": 86,
   "id": "5c79d3a4",
   "metadata": {},
   "outputs": [
    {
     "data": {
      "text/plain": [
       "'empty'"
      ]
     },
     "execution_count": 86,
     "metadata": {},
     "output_type": "execute_result"
    }
   ],
   "source": [
    "stack.is_empty()"
   ]
  },
  {
   "cell_type": "code",
   "execution_count": 87,
   "id": "f17e61ef",
   "metadata": {},
   "outputs": [
    {
     "data": {
      "text/plain": [
       "'not full'"
      ]
     },
     "execution_count": 87,
     "metadata": {},
     "output_type": "execute_result"
    }
   ],
   "source": [
    "stack.is_full()"
   ]
  },
  {
   "cell_type": "code",
   "execution_count": null,
   "id": "089078c1",
   "metadata": {},
   "outputs": [],
   "source": []
  }
 ],
 "metadata": {
  "kernelspec": {
   "display_name": "Python 3 (ipykernel)",
   "language": "python",
   "name": "python3"
  },
  "language_info": {
   "codemirror_mode": {
    "name": "ipython",
    "version": 3
   },
   "file_extension": ".py",
   "mimetype": "text/x-python",
   "name": "python",
   "nbconvert_exporter": "python",
   "pygments_lexer": "ipython3",
   "version": "3.9.12"
  }
 },
 "nbformat": 4,
 "nbformat_minor": 5
}
