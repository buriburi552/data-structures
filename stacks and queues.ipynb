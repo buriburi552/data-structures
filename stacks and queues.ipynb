{
 "cells": [
  {
   "cell_type": "markdown",
   "id": "ea9224de",
   "metadata": {},
   "source": [
    "## Stacks using linked lists"
   ]
  },
  {
   "cell_type": "code",
   "execution_count": 1,
   "id": "bc6b97a9",
   "metadata": {},
   "outputs": [],
   "source": [
    "class Node:\n",
    "    def __init__(self,value=None):\n",
    "        self.next=None\n",
    "        self.value=value\n",
    "\n",
    "class linked_list:\n",
    "    def __init__(self):\n",
    "        self.head=None\n",
    "    \n",
    "    def __iter__(self):\n",
    "        temp_node=self.head\n",
    "        while temp_node:\n",
    "            yield temp_node\n",
    "            temp_node=temp_node.next\n",
    "\n",
    "class Stack1:\n",
    "    def __init__(self):\n",
    "        self.linked_list=linked_list()\n",
    "    \n",
    "    def __str__(self):\n",
    "        values = [str(node.value) for node in self.linked_list]\n",
    "        return '\\n'.join(values)\n",
    "\n",
    "    def is_empty(self):\n",
    "        if self.linked_list.head is None:\n",
    "            return 'stack is empty'\n",
    "        return 'stack is not empty'\n",
    "    \n",
    "    def create(self,value):\n",
    "        new_node=Node(value)\n",
    "        if self.linked_list.head is not None:\n",
    "            self.linked_list.head=None\n",
    "            self.linked_list.head=new_node\n",
    "        else:\n",
    "            self.linked_list.head=new_node\n",
    "    \n",
    "    def push(self,value):\n",
    "        new_node=Node(value)\n",
    "        if self.linked_list.head is None:\n",
    "            return 'create a stack first'\n",
    "        else:\n",
    "            new_node.next=self.linked_list.head\n",
    "            self.linked_list.head=new_node\n",
    "    \n",
    "    def pop(self):\n",
    "        if self.linked_list.head is None:\n",
    "            return 'stack is empty'\n",
    "        else:\n",
    "            temp_node=self.head\n",
    "            self.linked_list.head=self.linked_list.head.next\n",
    "            return temp_node.value\n",
    "    \n",
    "    def peek(self):\n",
    "        if self.linked_list.head is None:\n",
    "            return 'stack is empty'\n",
    "        else:\n",
    "            return self.linked_list.head.value\n",
    "    \n",
    "    def delete_all(self):\n",
    "        self.linked_list.head=None\n",
    "        "
   ]
  },
  {
   "cell_type": "code",
   "execution_count": 2,
   "id": "594db4c4",
   "metadata": {},
   "outputs": [],
   "source": [
    "stack=Stack1()"
   ]
  },
  {
   "cell_type": "code",
   "execution_count": 3,
   "id": "929f1497",
   "metadata": {},
   "outputs": [],
   "source": [
    "stack.create(4)"
   ]
  },
  {
   "cell_type": "code",
   "execution_count": 4,
   "id": "3dc1892e",
   "metadata": {},
   "outputs": [
    {
     "name": "stdout",
     "output_type": "stream",
     "text": [
      "4\n"
     ]
    }
   ],
   "source": [
    "print(stack)"
   ]
  },
  {
   "cell_type": "code",
   "execution_count": 5,
   "id": "294c6953",
   "metadata": {},
   "outputs": [],
   "source": [
    "stack.push(343)\n",
    "stack.push(357)\n",
    "stack.push(2343)\n",
    "stack.push(32)\n",
    "stack.push(36)"
   ]
  },
  {
   "cell_type": "code",
   "execution_count": 6,
   "id": "cebb2307",
   "metadata": {},
   "outputs": [
    {
     "name": "stdout",
     "output_type": "stream",
     "text": [
      "36\n",
      "32\n",
      "2343\n",
      "357\n",
      "343\n",
      "4\n"
     ]
    }
   ],
   "source": [
    "print(stack)"
   ]
  },
  {
   "cell_type": "markdown",
   "id": "2f2001e0",
   "metadata": {},
   "source": [
    "## Stack using Lists(no restriction on size)"
   ]
  },
  {
   "cell_type": "code",
   "execution_count": 7,
   "id": "70b0a560",
   "metadata": {},
   "outputs": [],
   "source": [
    "class Stack2:\n",
    "    def __init__(self):\n",
    "        self.list=[]\n",
    "        \n",
    "    def __str__(self):\n",
    "        values=[str(value) for value in self.list]\n",
    "        return '\\n'.join(values)\n",
    "    \n",
    "    def is_empty(self):\n",
    "        if len(self.list)==0:\n",
    "            return True\n",
    "        return False\n",
    "    \n",
    "    def create(self,value):\n",
    "        self.list=[]\n",
    "        self.list.append(value)\n",
    "    \n",
    "    def push(self,value):\n",
    "        if len(self.list)==0:\n",
    "            return 'create a stack first'\n",
    "        else:\n",
    "            self.list.insert(0,value)\n",
    "    \n",
    "    def pop(self):\n",
    "        if len(self.list)==0:\n",
    "            return 'nothin to pop'\n",
    "        else:\n",
    "            popped=self.list.pop(0)\n",
    "            return popped\n",
    "    \n",
    "    def peek(self):\n",
    "        if len(self.list)==0:\n",
    "            return 'stack is empty'\n",
    "        else:\n",
    "            return self.list[0]\n",
    "    \n",
    "    def delete(self):\n",
    "        self.list=[]\n"
   ]
  },
  {
   "cell_type": "code",
   "execution_count": 8,
   "id": "3e614dec",
   "metadata": {},
   "outputs": [],
   "source": [
    "stack=Stack2()"
   ]
  },
  {
   "cell_type": "code",
   "execution_count": 9,
   "id": "7f112052",
   "metadata": {},
   "outputs": [
    {
     "data": {
      "text/plain": [
       "True"
      ]
     },
     "execution_count": 9,
     "metadata": {},
     "output_type": "execute_result"
    }
   ],
   "source": [
    "stack.is_empty()"
   ]
  },
  {
   "cell_type": "code",
   "execution_count": 10,
   "id": "3f9d896a",
   "metadata": {},
   "outputs": [
    {
     "name": "stdout",
     "output_type": "stream",
     "text": [
      "4\n"
     ]
    }
   ],
   "source": [
    "stack.create(4)\n",
    "print(stack)"
   ]
  },
  {
   "cell_type": "code",
   "execution_count": 11,
   "id": "da512eac",
   "metadata": {},
   "outputs": [
    {
     "data": {
      "text/plain": [
       "False"
      ]
     },
     "execution_count": 11,
     "metadata": {},
     "output_type": "execute_result"
    }
   ],
   "source": [
    "stack.is_empty()"
   ]
  },
  {
   "cell_type": "code",
   "execution_count": 12,
   "id": "7983ae0e",
   "metadata": {},
   "outputs": [],
   "source": [
    "stack.push(30)\n",
    "stack.push(670)\n",
    "stack.push(332)\n",
    "stack.push(367)\n",
    "stack.push(4)\n",
    "stack.push(8)"
   ]
  },
  {
   "cell_type": "code",
   "execution_count": 13,
   "id": "a85a9a03",
   "metadata": {},
   "outputs": [
    {
     "name": "stdout",
     "output_type": "stream",
     "text": [
      "8\n",
      "4\n",
      "367\n",
      "332\n",
      "670\n",
      "30\n",
      "4\n"
     ]
    }
   ],
   "source": [
    "print(stack)"
   ]
  },
  {
   "cell_type": "code",
   "execution_count": 14,
   "id": "1199105c",
   "metadata": {},
   "outputs": [
    {
     "data": {
      "text/plain": [
       "8"
      ]
     },
     "execution_count": 14,
     "metadata": {},
     "output_type": "execute_result"
    }
   ],
   "source": [
    "stack.pop()"
   ]
  },
  {
   "cell_type": "code",
   "execution_count": 15,
   "id": "bef3228d",
   "metadata": {},
   "outputs": [
    {
     "data": {
      "text/plain": [
       "4"
      ]
     },
     "execution_count": 15,
     "metadata": {},
     "output_type": "execute_result"
    }
   ],
   "source": [
    "stack.peek()"
   ]
  },
  {
   "cell_type": "code",
   "execution_count": 16,
   "id": "7b2fa430",
   "metadata": {},
   "outputs": [
    {
     "name": "stdout",
     "output_type": "stream",
     "text": [
      "\n"
     ]
    }
   ],
   "source": [
    "stack.delete()\n",
    "print(stack)"
   ]
  },
  {
   "cell_type": "markdown",
   "id": "0c866145",
   "metadata": {},
   "source": [
    "## Stack with size limit"
   ]
  },
  {
   "cell_type": "code",
   "execution_count": 17,
   "id": "ad5e812f",
   "metadata": {},
   "outputs": [],
   "source": [
    "class Stack3:\n",
    "    def __init__(self,max_size):\n",
    "        self.list=[]\n",
    "        self.max_size=max_size\n",
    "        \n",
    "    def __str__(self):\n",
    "        values = [str(x) for x in self.list]\n",
    "        return '\\n'.join(values)\n",
    "    \n",
    "    def is_empty(self):\n",
    "        if len(self.list)==0:\n",
    "            return True\n",
    "        return False\n",
    "    \n",
    "    def is_full(self):\n",
    "        if len(self.list)==self.max_size:\n",
    "            return True\n",
    "        return False\n",
    "    \n",
    "    def create(self,value):\n",
    "        if not self.is_full():\n",
    "            self.list=[]\n",
    "            self.list.append(value)\n",
    "        else:\n",
    "            print('stack size is 0')\n",
    "    \n",
    "    def push(self,value):\n",
    "        if not self.is_full():\n",
    "            self.list.insert(0,value)\n",
    "        else:\n",
    "            return 'stack is full'\n",
    "    \n",
    "    def pop(self,value):\n",
    "        if self.list.is_empty():\n",
    "            return 'stack is empty'\n",
    "        else:\n",
    "            popped=self.list.pop(0)\n",
    "            return popped\n",
    "    \n",
    "    def peek(self):\n",
    "        if self.list.is_empty():\n",
    "            return 'stack is empty'\n",
    "        else:\n",
    "            return self.list[0]\n",
    "    \n",
    "    def delete(self):\n",
    "        self.list=[]\n",
    "        "
   ]
  },
  {
   "cell_type": "code",
   "execution_count": 18,
   "id": "b47a0bc8",
   "metadata": {},
   "outputs": [],
   "source": [
    "stack = Stack3(5)"
   ]
  },
  {
   "cell_type": "code",
   "execution_count": 19,
   "id": "8dabc764",
   "metadata": {},
   "outputs": [
    {
     "data": {
      "text/plain": [
       "True"
      ]
     },
     "execution_count": 19,
     "metadata": {},
     "output_type": "execute_result"
    }
   ],
   "source": [
    "stack.is_empty()"
   ]
  },
  {
   "cell_type": "code",
   "execution_count": 20,
   "id": "9784ff60",
   "metadata": {},
   "outputs": [
    {
     "data": {
      "text/plain": [
       "False"
      ]
     },
     "execution_count": 20,
     "metadata": {},
     "output_type": "execute_result"
    }
   ],
   "source": [
    "stack.is_full()"
   ]
  },
  {
   "cell_type": "code",
   "execution_count": 21,
   "id": "642454d2",
   "metadata": {},
   "outputs": [
    {
     "name": "stdout",
     "output_type": "stream",
     "text": [
      "4\n"
     ]
    }
   ],
   "source": [
    "stack.create(4)\n",
    "print(stack)"
   ]
  },
  {
   "cell_type": "code",
   "execution_count": 22,
   "id": "4e8495ec",
   "metadata": {},
   "outputs": [
    {
     "name": "stdout",
     "output_type": "stream",
     "text": [
      "45\n",
      "89\n",
      "67\n",
      "9\n",
      "4\n"
     ]
    }
   ],
   "source": [
    "stack.push(9)\n",
    "stack.push(67)\n",
    "stack.push(89)\n",
    "stack.push(45)\n",
    "print(stack)"
   ]
  },
  {
   "cell_type": "code",
   "execution_count": 23,
   "id": "d1020b45",
   "metadata": {},
   "outputs": [
    {
     "data": {
      "text/plain": [
       "'stack is full'"
      ]
     },
     "execution_count": 23,
     "metadata": {},
     "output_type": "execute_result"
    }
   ],
   "source": [
    "stack.push(0)"
   ]
  },
  {
   "cell_type": "code",
   "execution_count": 24,
   "id": "9d0e4ebe",
   "metadata": {},
   "outputs": [
    {
     "data": {
      "text/plain": [
       "True"
      ]
     },
     "execution_count": 24,
     "metadata": {},
     "output_type": "execute_result"
    }
   ],
   "source": [
    "stack.is_full()"
   ]
  },
  {
   "cell_type": "markdown",
   "id": "ec45124c",
   "metadata": {},
   "source": [
    "## Queue using Linked Lists"
   ]
  },
  {
   "cell_type": "code",
   "execution_count": 52,
   "id": "b4f5a491",
   "metadata": {},
   "outputs": [],
   "source": [
    "class Node:\n",
    "    def __init__(self,value=None):\n",
    "        self.value=value\n",
    "        self.next=None\n",
    "        \n",
    "    def __str__(self):\n",
    "        return str(self.value)\n",
    "        \n",
    "class linked_list:\n",
    "    def __init__(self):\n",
    "        self.head=None\n",
    "        self.tail=None\n",
    "        \n",
    "    def __iter__(self):\n",
    "        temp_node=self.head\n",
    "        while temp_node:\n",
    "            yield temp_node\n",
    "            temp_node=temp_node.next\n",
    "            \n",
    "    \n",
    "class Queue1:\n",
    "    def __init__(self):\n",
    "        self.linked_list = linked_list()\n",
    "    \n",
    "    def __str__(self):\n",
    "        values = [str(x) for x in self.linked_list]\n",
    "        return ' '.join(values)\n",
    "    \n",
    "    def is_empty(self):\n",
    "        if self.linked_list.head is None:\n",
    "            return True\n",
    "        return False\n",
    "    \n",
    "    def enqueue(self,value):\n",
    "        new_node=Node(value)\n",
    "        if self.linked_list.head is None:\n",
    "            self.linked_list.head=new_node\n",
    "            self.linked_list.tail=new_node\n",
    "        else:\n",
    "            self.linked_list.tail.next=new_node\n",
    "            self.linked_list.tail=new_node\n",
    "    \n",
    "    def dequeue(self):\n",
    "        if self.linked_list.head is None:\n",
    "            return 'queue is empty'\n",
    "        else:\n",
    "            if self.linked_list.head==self.linked_list.tail:\n",
    "                self.linked_list.head=None\n",
    "                self.linked_list.tail=None\n",
    "            else:\n",
    "                self.linked_list.head=self.linked_list.head.next\n",
    "    \n",
    "    def peek(self):\n",
    "        if self.linked_list.head is None:\n",
    "            return 'queue is empty'\n",
    "        else:\n",
    "            return self.linked_list.head"
   ]
  },
  {
   "cell_type": "code",
   "execution_count": 53,
   "id": "524e66ef",
   "metadata": {},
   "outputs": [],
   "source": [
    "queue=Queue1()"
   ]
  },
  {
   "cell_type": "code",
   "execution_count": 54,
   "id": "ff6f1e25",
   "metadata": {},
   "outputs": [
    {
     "data": {
      "text/plain": [
       "True"
      ]
     },
     "execution_count": 54,
     "metadata": {},
     "output_type": "execute_result"
    }
   ],
   "source": [
    "queue.is_empty()"
   ]
  },
  {
   "cell_type": "code",
   "execution_count": 55,
   "id": "54cc425b",
   "metadata": {},
   "outputs": [
    {
     "name": "stdout",
     "output_type": "stream",
     "text": [
      "7\n"
     ]
    }
   ],
   "source": [
    "queue.enqueue(7)\n",
    "print(queue)"
   ]
  },
  {
   "cell_type": "code",
   "execution_count": 56,
   "id": "9ff24b13",
   "metadata": {},
   "outputs": [
    {
     "name": "stdout",
     "output_type": "stream",
     "text": [
      "7 9 39\n"
     ]
    }
   ],
   "source": [
    "queue.enqueue(9)\n",
    "queue.enqueue(39)\n",
    "print(queue)"
   ]
  },
  {
   "cell_type": "code",
   "execution_count": 57,
   "id": "48c7f5f7",
   "metadata": {},
   "outputs": [
    {
     "name": "stdout",
     "output_type": "stream",
     "text": [
      "9 39\n"
     ]
    }
   ],
   "source": [
    "queue.dequeue()\n",
    "print(queue)"
   ]
  },
  {
   "cell_type": "code",
   "execution_count": 59,
   "id": "fd4e4994",
   "metadata": {},
   "outputs": [
    {
     "name": "stdout",
     "output_type": "stream",
     "text": [
      "9\n"
     ]
    }
   ],
   "source": [
    "print(queue.peek())"
   ]
  },
  {
   "cell_type": "markdown",
   "id": "e6eeec84",
   "metadata": {},
   "source": [
    "## Queues using lists and Size limit"
   ]
  },
  {
   "cell_type": "code",
   "execution_count": 18,
   "id": "57a02135",
   "metadata": {},
   "outputs": [],
   "source": [
    "class Queue2:\n",
    "    def __init__(self,max_size):\n",
    "        self.list=[]\n",
    "        self.max_size=max_size\n",
    "    \n",
    "    def __str__(self):\n",
    "        values = [str(x) for x in self.list]\n",
    "        return ' '.join(values)\n",
    "    \n",
    "    def create(self,value):\n",
    "        if self.max_size==0:\n",
    "            return 'max_size is set to 0'\n",
    "        else:\n",
    "            self.list=[]\n",
    "            self.list.append(value)\n",
    "        \n",
    "    def is_empty(self):\n",
    "        if len(self.list)==0:\n",
    "            return True\n",
    "        return False\n",
    "\n",
    "    def is_full(self):\n",
    "        if len(self.list)==self.max_size:\n",
    "            return True\n",
    "        return False\n",
    "    \n",
    "    def enqueue(self,value):\n",
    "        if self.is_full():\n",
    "              return 'queue reached its size limit'\n",
    "        self.list.append(value)\n",
    "    \n",
    "    def dequeue(self):\n",
    "        if self.is_empty():\n",
    "            return 'queue is empty'\n",
    "        else:\n",
    "            popped = self.list.pop(0)\n",
    "            return popped\n",
    "    \n",
    "    def peek(self):\n",
    "        if not self.is_empty():\n",
    "            return self.list[0]\n",
    "        return 'list is empty'\n",
    "    \n",
    "    "
   ]
  },
  {
   "cell_type": "code",
   "execution_count": 19,
   "id": "f038bea2",
   "metadata": {},
   "outputs": [],
   "source": [
    "queue=Queue2(5)"
   ]
  },
  {
   "cell_type": "code",
   "execution_count": 20,
   "id": "f42825a3",
   "metadata": {},
   "outputs": [
    {
     "data": {
      "text/plain": [
       "True"
      ]
     },
     "execution_count": 20,
     "metadata": {},
     "output_type": "execute_result"
    }
   ],
   "source": [
    "queue.is_empty()"
   ]
  },
  {
   "cell_type": "code",
   "execution_count": 21,
   "id": "e1f02550",
   "metadata": {},
   "outputs": [
    {
     "data": {
      "text/plain": [
       "False"
      ]
     },
     "execution_count": 21,
     "metadata": {},
     "output_type": "execute_result"
    }
   ],
   "source": [
    "queue.is_full()"
   ]
  },
  {
   "cell_type": "code",
   "execution_count": 22,
   "id": "9514cadd",
   "metadata": {},
   "outputs": [
    {
     "name": "stdout",
     "output_type": "stream",
     "text": [
      "4\n"
     ]
    }
   ],
   "source": [
    "queue.create(4)\n",
    "print(queue)"
   ]
  },
  {
   "cell_type": "code",
   "execution_count": 23,
   "id": "113ac1b4",
   "metadata": {},
   "outputs": [],
   "source": [
    "queue.enqueue(7)\n",
    "queue.enqueue(9)\n",
    "queue.enqueue(1)\n",
    "queue.enqueue(0)"
   ]
  },
  {
   "cell_type": "code",
   "execution_count": 24,
   "id": "c5ddf13c",
   "metadata": {},
   "outputs": [
    {
     "data": {
      "text/plain": [
       "'queue reached its size limit'"
      ]
     },
     "execution_count": 24,
     "metadata": {},
     "output_type": "execute_result"
    }
   ],
   "source": [
    "queue.enqueue(6)"
   ]
  },
  {
   "cell_type": "code",
   "execution_count": 25,
   "id": "71e66a84",
   "metadata": {},
   "outputs": [
    {
     "name": "stdout",
     "output_type": "stream",
     "text": [
      "4 7 9 1 0\n"
     ]
    }
   ],
   "source": [
    "print(queue)"
   ]
  },
  {
   "cell_type": "code",
   "execution_count": 26,
   "id": "4e977aa9",
   "metadata": {},
   "outputs": [
    {
     "data": {
      "text/plain": [
       "True"
      ]
     },
     "execution_count": 26,
     "metadata": {},
     "output_type": "execute_result"
    }
   ],
   "source": [
    "queue.is_full()"
   ]
  },
  {
   "cell_type": "code",
   "execution_count": 27,
   "id": "aa9f30e4",
   "metadata": {},
   "outputs": [
    {
     "data": {
      "text/plain": [
       "4"
      ]
     },
     "execution_count": 27,
     "metadata": {},
     "output_type": "execute_result"
    }
   ],
   "source": [
    "queue.dequeue()"
   ]
  },
  {
   "cell_type": "code",
   "execution_count": 28,
   "id": "57b3cc09",
   "metadata": {},
   "outputs": [
    {
     "name": "stdout",
     "output_type": "stream",
     "text": [
      "7 9 1 0\n"
     ]
    }
   ],
   "source": [
    "print(queue)"
   ]
  },
  {
   "cell_type": "code",
   "execution_count": 29,
   "id": "d61c6a0e",
   "metadata": {},
   "outputs": [
    {
     "data": {
      "text/plain": [
       "7"
      ]
     },
     "execution_count": 29,
     "metadata": {},
     "output_type": "execute_result"
    }
   ],
   "source": [
    "queue.peek()"
   ]
  },
  {
   "cell_type": "code",
   "execution_count": null,
   "id": "69b283d6",
   "metadata": {},
   "outputs": [],
   "source": []
  }
 ],
 "metadata": {
  "kernelspec": {
   "display_name": "Python 3 (ipykernel)",
   "language": "python",
   "name": "python3"
  },
  "language_info": {
   "codemirror_mode": {
    "name": "ipython",
    "version": 3
   },
   "file_extension": ".py",
   "mimetype": "text/x-python",
   "name": "python",
   "nbconvert_exporter": "python",
   "pygments_lexer": "ipython3",
   "version": "3.9.12"
  }
 },
 "nbformat": 4,
 "nbformat_minor": 5
}
