{
 "cells": [
  {
   "cell_type": "code",
   "execution_count": 40,
   "id": "899e0225",
   "metadata": {},
   "outputs": [],
   "source": [
    "def bubble_sort(a):\n",
    "    for i in range(len(a)-1):\n",
    "        for j in range(len(a)-i-1):\n",
    "            print(a)\n",
    "            if a[j]>a[j+1]:\n",
    "                a[j],a[j+1]=a[j+1],a[j]\n",
    "    return a"
   ]
  },
  {
   "cell_type": "code",
   "execution_count": 42,
   "id": "d6e461c7",
   "metadata": {},
   "outputs": [
    {
     "name": "stdout",
     "output_type": "stream",
     "text": [
      "[5, 4, 3, 2, 1]\n",
      "[4, 5, 3, 2, 1]\n",
      "[4, 3, 5, 2, 1]\n",
      "[4, 3, 2, 5, 1]\n",
      "[4, 3, 2, 1, 5]\n",
      "[3, 4, 2, 1, 5]\n",
      "[3, 2, 4, 1, 5]\n",
      "[3, 2, 1, 4, 5]\n",
      "[2, 3, 1, 4, 5]\n",
      "[2, 1, 3, 4, 5]\n",
      "[1, 2, 3, 4, 5]\n"
     ]
    }
   ],
   "source": [
    "print(bubble_sort([5,4,3,2,1]))"
   ]
  },
  {
   "cell_type": "code",
   "execution_count": 3,
   "id": "d2cd164e",
   "metadata": {},
   "outputs": [],
   "source": [
    "def selection_sort(a):\n",
    "    for i in range(len(a)):\n",
    "        min_index=i\n",
    "        for j in range(i+1, len(a)):\n",
    "            print(a)\n",
    "            if a[min_index]>a[j]:\n",
    "                min_index=j\n",
    "        a[i],a[min_index]=a[min_index],a[i]\n",
    "    return a"
   ]
  },
  {
   "cell_type": "code",
   "execution_count": 4,
   "id": "1f8288a5",
   "metadata": {},
   "outputs": [
    {
     "name": "stdout",
     "output_type": "stream",
     "text": [
      "[4, 5, 6, 3, 1]\n",
      "[4, 5, 6, 3, 1]\n",
      "[4, 5, 6, 3, 1]\n",
      "[4, 5, 6, 3, 1]\n",
      "[1, 5, 6, 3, 4]\n",
      "[1, 5, 6, 3, 4]\n",
      "[1, 5, 6, 3, 4]\n",
      "[1, 3, 6, 5, 4]\n",
      "[1, 3, 6, 5, 4]\n",
      "[1, 3, 4, 5, 6]\n"
     ]
    },
    {
     "data": {
      "text/plain": [
       "[1, 3, 4, 5, 6]"
      ]
     },
     "execution_count": 4,
     "metadata": {},
     "output_type": "execute_result"
    }
   ],
   "source": [
    "selection_sort([4,5,6,3,1])"
   ]
  },
  {
   "cell_type": "code",
   "execution_count": 46,
   "id": "658ea24d",
   "metadata": {},
   "outputs": [],
   "source": [
    "def insertion_sort(a):\n",
    "    for i in range(1,len(a)):\n",
    "        key=a[i]\n",
    "        j=i-1\n",
    "        while j>=0 and key<a[j]:\n",
    "            a[j+1],a[j]=a[j],a[j+1]\n",
    "            j-=1\n",
    "    return a"
   ]
  },
  {
   "cell_type": "code",
   "execution_count": 47,
   "id": "d8982968",
   "metadata": {
    "scrolled": true
   },
   "outputs": [
    {
     "name": "stdout",
     "output_type": "stream",
     "text": [
      "[1, 2, 3, 4, 5]\n"
     ]
    }
   ],
   "source": [
    "print(insertion_sort([5,4,3,2,1]))"
   ]
  },
  {
   "cell_type": "code",
   "execution_count": 56,
   "id": "600332a5",
   "metadata": {},
   "outputs": [],
   "source": [
    "def flatten(a):\n",
    "    temp=[]\n",
    "    for i in range(len(a)):\n",
    "        if type(a[i]) is list:\n",
    "            temp.extend(flatten(a[i]))\n",
    "        else:\n",
    "            temp.append(a[i])\n",
    "    return temp\n",
    "            "
   ]
  },
  {
   "cell_type": "code",
   "execution_count": 57,
   "id": "dd6f2fd2",
   "metadata": {},
   "outputs": [
    {
     "name": "stdout",
     "output_type": "stream",
     "text": [
      "[1, 2, 3, 4, 5, 6, 7, 8, 9]\n"
     ]
    }
   ],
   "source": [
    "print(flatten([[1, 2, 3], [4, 5, 6], [7, 8, 9]]))"
   ]
  },
  {
   "cell_type": "code",
   "execution_count": 58,
   "id": "3688f1d9",
   "metadata": {},
   "outputs": [],
   "source": [
    "import math \n",
    "def bucket_sort(a):\n",
    "    buckets=round(math.sqrt(len(a)))\n",
    "    max_value=max(a)\n",
    "    temp_arr = []\n",
    "    \n",
    "    for i in range(buckets):\n",
    "        temp_arr.append([])\n",
    "    for j in a:\n",
    "        index = math.ceil(j*buckets/max_value)\n",
    "        temp_arr[index-1].append(j)\n",
    "        \n",
    "    for k in range(buckets):\n",
    "        temp_arr[k] = insertion_sort(temp_arr[k])\n",
    "        \n",
    "    return flatten(temp_arr)"
   ]
  },
  {
   "cell_type": "code",
   "execution_count": 59,
   "id": "21588f5b",
   "metadata": {},
   "outputs": [
    {
     "name": "stdout",
     "output_type": "stream",
     "text": [
      "[1, 2, 3, 4, 5, 6, 7, 8, 9]\n"
     ]
    }
   ],
   "source": [
    "print(bucket_sort([9,8,7,6,5,4,3,2,1]))"
   ]
  },
  {
   "cell_type": "code",
   "execution_count": null,
   "id": "158ec6ae",
   "metadata": {},
   "outputs": [],
   "source": []
  },
  {
   "cell_type": "code",
   "execution_count": null,
   "id": "441c7e18",
   "metadata": {},
   "outputs": [],
   "source": []
  },
  {
   "cell_type": "code",
   "execution_count": null,
   "id": "a16ce9f5",
   "metadata": {},
   "outputs": [],
   "source": []
  },
  {
   "cell_type": "code",
   "execution_count": null,
   "id": "296a181d",
   "metadata": {},
   "outputs": [],
   "source": []
  },
  {
   "cell_type": "code",
   "execution_count": null,
   "id": "35b3c3a8",
   "metadata": {},
   "outputs": [],
   "source": []
  },
  {
   "cell_type": "code",
   "execution_count": 15,
   "id": "a0e4db1a",
   "metadata": {},
   "outputs": [],
   "source": [
    "def insertion_sort(a):\n",
    "    for i in range(len(a)):\n",
    "        min_index=i\n",
    "        for j in range(i+1,len(a)):\n",
    "            if a[min_index]>a[j]:\n",
    "                min_index=j\n",
    "        a[min_index],a[i]=a[i],a[min_index]\n",
    "    return a"
   ]
  },
  {
   "cell_type": "code",
   "execution_count": 16,
   "id": "cbe6e7cc",
   "metadata": {},
   "outputs": [
    {
     "name": "stdout",
     "output_type": "stream",
     "text": [
      "[1, 2, 3, 4, 5]\n"
     ]
    }
   ],
   "source": [
    "print(insertion_sort([5,4,3,2,1]))"
   ]
  },
  {
   "cell_type": "code",
   "execution_count": null,
   "id": "ebbb2cea",
   "metadata": {},
   "outputs": [],
   "source": []
  }
 ],
 "metadata": {
  "kernelspec": {
   "display_name": "Python 3 (ipykernel)",
   "language": "python",
   "name": "python3"
  },
  "language_info": {
   "codemirror_mode": {
    "name": "ipython",
    "version": 3
   },
   "file_extension": ".py",
   "mimetype": "text/x-python",
   "name": "python",
   "nbconvert_exporter": "python",
   "pygments_lexer": "ipython3",
   "version": "3.9.12"
  }
 },
 "nbformat": 4,
 "nbformat_minor": 5
}
