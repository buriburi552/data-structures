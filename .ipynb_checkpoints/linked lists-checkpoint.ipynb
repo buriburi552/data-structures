{
 "cells": [
  {
   "cell_type": "markdown",
   "id": "0cc84a53",
   "metadata": {},
   "source": [
    "## Linked List"
   ]
  },
  {
   "cell_type": "code",
   "execution_count": 225,
   "id": "b1adaada",
   "metadata": {},
   "outputs": [],
   "source": [
    "class Node:\n",
    "    def __init__(self,value=None):\n",
    "        self.value=value\n",
    "        self.next=None\n",
    "        \n",
    "class linked_list:\n",
    "    def __init__(self):\n",
    "        self.head=None\n",
    "        self.tail=None\n",
    "    \n",
    "    def __iter__(self):\n",
    "        temp=self.head\n",
    "        while temp:\n",
    "            yield temp\n",
    "            temp=temp.next\n",
    "    \n",
    "    def create(self,value):\n",
    "        new_node=Node(value)\n",
    "        if self.head is not None:\n",
    "            self.head=None\n",
    "            self.tail=None\n",
    "            self.head=new_node\n",
    "            self.tail=new_node\n",
    "        else:\n",
    "            self.head=new_node\n",
    "            self.tail=new_node\n",
    "            \n",
    "    \n",
    "    def insert(self,value,loc):\n",
    "        if self.head is None:\n",
    "            return 'firse create the list'\n",
    "        else:\n",
    "            new_node=Node(value)\n",
    "            if loc==0:\n",
    "                temp=self.head\n",
    "                self.head=new_node\n",
    "                new_node.next=temp\n",
    "            elif loc==-1:\n",
    "                self.tail.next=new_node\n",
    "                self.tail=new_node\n",
    "                new_node.next=None\n",
    "            else:\n",
    "                temp_node=self.head\n",
    "                index=0\n",
    "                while index<loc-1:\n",
    "                    temp_node=temp_node.next\n",
    "                    index+=1\n",
    "                next_node=temp_node.next\n",
    "                new_node.next=next_node\n",
    "                temp_node.next=new_node\n",
    "    \n",
    "    def delete(self,loc):\n",
    "        if self.head is None:\n",
    "            return 'ther is nothing to delete'\n",
    "        else:\n",
    "            if self.head==self.tail:\n",
    "                self.head=None\n",
    "                self.tail=None\n",
    "            else:\n",
    "                if loc==0:\n",
    "                    next_node=self.head.next\n",
    "                    self.head=next_node\n",
    "                elif loc==-1:\n",
    "                    temp_node=self.head\n",
    "                    while temp_node:\n",
    "                        if temp_node.next==self.tail:\n",
    "                            break\n",
    "                        temp_node=temp_node.next\n",
    "                    temp_node.next=None\n",
    "                    self.tail=temp_node\n",
    "                        \n",
    "                else:\n",
    "                    temp_node=self.head\n",
    "                    index=0\n",
    "                    while index<loc-1:\n",
    "                        temp_node=temp_node.next\n",
    "                        index+=1\n",
    "                    next_node=temp_node.next.next\n",
    "                    temp_node.next=next_node\n",
    "    \n",
    "    def search(self,value):\n",
    "        if self.head is None:\n",
    "            return 'list is empty'\n",
    "        else:\n",
    "            temp_node=self.head\n",
    "            index=0\n",
    "            while temp_node:\n",
    "                if temp_node.value==value:\n",
    "                    return index\n",
    "                index+=1\n",
    "                temp_node=temp_node.next\n",
    "            return 'not in list'\n",
    "    \n",
    "    def traverse(self):\n",
    "        if self.head is None:\n",
    "            return 'no element in list'\n",
    "        else:\n",
    "            temp_node=self.head\n",
    "            while temp_node:\n",
    "                print(temp_node.value)\n",
    "                temp_node=temp_node.next\n",
    "    \n",
    "    def delete_entire(self):\n",
    "        self.head=None\n",
    "        self.tail=None\n",
    "        \n",
    "                \n",
    "                            "
   ]
  },
  {
   "cell_type": "code",
   "execution_count": 226,
   "id": "44079c6c",
   "metadata": {},
   "outputs": [],
   "source": [
    "ll = linked_list()"
   ]
  },
  {
   "cell_type": "code",
   "execution_count": 227,
   "id": "70bb848d",
   "metadata": {},
   "outputs": [
    {
     "name": "stdout",
     "output_type": "stream",
     "text": [
      "[4]\n"
     ]
    }
   ],
   "source": [
    "ll.create(4)\n",
    "print([node.value for node in ll])"
   ]
  },
  {
   "cell_type": "code",
   "execution_count": 228,
   "id": "e23b208a",
   "metadata": {},
   "outputs": [
    {
     "name": "stdout",
     "output_type": "stream",
     "text": [
      "[6, 4]\n"
     ]
    }
   ],
   "source": [
    "ll.insert(6,0)\n",
    "print([node.value for node in ll])"
   ]
  },
  {
   "cell_type": "code",
   "execution_count": 229,
   "id": "a1cdde57",
   "metadata": {},
   "outputs": [
    {
     "name": "stdout",
     "output_type": "stream",
     "text": [
      "[6, 4, -1]\n"
     ]
    }
   ],
   "source": [
    "ll.insert(-1,-1)\n",
    "print([node.value for node in ll])"
   ]
  },
  {
   "cell_type": "code",
   "execution_count": 230,
   "id": "b019033b",
   "metadata": {},
   "outputs": [
    {
     "name": "stdout",
     "output_type": "stream",
     "text": [
      "[6, 4, 2, -1]\n"
     ]
    }
   ],
   "source": [
    "ll.insert(2,2)\n",
    "print([node.value for node in ll])"
   ]
  },
  {
   "cell_type": "code",
   "execution_count": 231,
   "id": "238a1951",
   "metadata": {},
   "outputs": [
    {
     "name": "stdout",
     "output_type": "stream",
     "text": [
      "[6, 4, 42, 5, 70, 56, 7, 2, -1]\n"
     ]
    }
   ],
   "source": [
    "ll.insert(7,2)\n",
    "ll.insert(56,2)\n",
    "ll.insert(70,2)\n",
    "ll.insert(5,2)\n",
    "ll.insert(42,2)\n",
    "print([node.value for node in ll])"
   ]
  },
  {
   "cell_type": "code",
   "execution_count": 232,
   "id": "77b5dc4a",
   "metadata": {},
   "outputs": [
    {
     "name": "stdout",
     "output_type": "stream",
     "text": [
      "[4, 42, 5, 70, 56, 7, 2, -1]\n"
     ]
    }
   ],
   "source": [
    "ll.delete(0)\n",
    "print([node.value for node in ll])"
   ]
  },
  {
   "cell_type": "code",
   "execution_count": 233,
   "id": "eb4fee63",
   "metadata": {},
   "outputs": [
    {
     "name": "stdout",
     "output_type": "stream",
     "text": [
      "[4, 42, 5, 70, 56, 7, 2]\n"
     ]
    }
   ],
   "source": [
    "ll.delete(-1)\n",
    "print([node.value for node in ll])"
   ]
  },
  {
   "cell_type": "code",
   "execution_count": 234,
   "id": "786fae3b",
   "metadata": {},
   "outputs": [
    {
     "name": "stdout",
     "output_type": "stream",
     "text": [
      "[4, 42, 5, 56, 7, 2]\n"
     ]
    }
   ],
   "source": [
    "ll.delete(3)\n",
    "print([node.value for node in ll])"
   ]
  },
  {
   "cell_type": "code",
   "execution_count": 235,
   "id": "e4507464",
   "metadata": {},
   "outputs": [
    {
     "name": "stdout",
     "output_type": "stream",
     "text": [
      "not in list\n",
      "4\n"
     ]
    },
    {
     "data": {
      "text/plain": [
       "(None, None)"
      ]
     },
     "execution_count": 235,
     "metadata": {},
     "output_type": "execute_result"
    }
   ],
   "source": [
    "print(ll.search(70)), print(ll.search(7))"
   ]
  },
  {
   "cell_type": "code",
   "execution_count": 236,
   "id": "526b24a2",
   "metadata": {},
   "outputs": [
    {
     "name": "stdout",
     "output_type": "stream",
     "text": [
      "4\n",
      "42\n",
      "5\n",
      "56\n",
      "7\n",
      "2\n"
     ]
    }
   ],
   "source": [
    "ll.traverse()"
   ]
  },
  {
   "cell_type": "code",
   "execution_count": 237,
   "id": "0d45499f",
   "metadata": {},
   "outputs": [
    {
     "data": {
      "text/plain": [
       "'no element in list'"
      ]
     },
     "execution_count": 237,
     "metadata": {},
     "output_type": "execute_result"
    }
   ],
   "source": [
    "ll.delete_entire()\n",
    "ll.traverse()"
   ]
  },
  {
   "cell_type": "code",
   "execution_count": null,
   "id": "6eb0c08c",
   "metadata": {},
   "outputs": [],
   "source": []
  },
  {
   "cell_type": "markdown",
   "id": "291cf196",
   "metadata": {},
   "source": [
    "## Doubly Linked List"
   ]
  },
  {
   "cell_type": "code",
   "execution_count": 318,
   "id": "58546dda",
   "metadata": {},
   "outputs": [],
   "source": [
    "class Node:\n",
    "    def __init__(self,value=None):\n",
    "        self.value=value\n",
    "        self.next=None\n",
    "        self.prev=None\n",
    "\n",
    "class double_linked_list:\n",
    "    def __init__(self):\n",
    "        self.head=None\n",
    "        self.tail=None\n",
    "    \n",
    "    def __iter__(self):\n",
    "        temp_node=self.head\n",
    "        while temp_node:\n",
    "            yield temp_node\n",
    "            temp_node=temp_node.next\n",
    "            \n",
    "    def create(self,value):\n",
    "        new_node=Node(value)\n",
    "        if self.head is None:\n",
    "            self.head=new_node\n",
    "            self.tail=new_node\n",
    "        else:\n",
    "            self.head=None\n",
    "            self.tail=None\n",
    "            self.head=new_node\n",
    "            self.tail=new_node\n",
    "    \n",
    "    def insert(self,value,loc):\n",
    "        new_node=Node(value)\n",
    "        if self.head is None:\n",
    "            return 'first create a list'\n",
    "        else:\n",
    "            if loc==0:\n",
    "                next_node=self.head\n",
    "                new_node.next=next_node\n",
    "                self.head=new_node\n",
    "                next_node.prev=new_node\n",
    "            elif loc==-1:\n",
    "                self.tail.next=new_node\n",
    "                new_node.prev=self.tail\n",
    "                self.tail=new_node\n",
    "            else:\n",
    "                temp_node=self.head\n",
    "                index=0\n",
    "                while index<loc-1:\n",
    "                    temp_node=temp_node.next\n",
    "                    index+=1\n",
    "                next_node=temp_node.next\n",
    "                temp_node.next=new_node\n",
    "                new_node.next=next_node\n",
    "                next_node.prev=new_node\n",
    "                new_node.prev=temp_node\n",
    "                \n",
    "                \n",
    "    def traverse_fwd(self):\n",
    "        if self.head is None:\n",
    "            return 'list is empty'\n",
    "        else:\n",
    "            temp_node=self.head\n",
    "            while temp_node:\n",
    "                print(temp_node.value)\n",
    "                temp_node=temp_node.next\n",
    "                \n",
    "    def traverse_back(self):\n",
    "        if self.tail is None:\n",
    "            return 'list is empty'\n",
    "        else:\n",
    "            temp_node = self.tail\n",
    "            while temp_node:\n",
    "                print(temp_node.value)\n",
    "                temp_node=temp_node.prev\n",
    "    \n",
    "    def search(self,value):\n",
    "        if self.head is None:\n",
    "            return 'list is empty'\n",
    "        else:\n",
    "            temp_node=self.head\n",
    "            index=0\n",
    "            while temp_node:\n",
    "                if temp_node.value==value:\n",
    "                    return index\n",
    "                temp_node=temp_node.next\n",
    "                index+=1\n",
    "    \n",
    "    def delete(self,loc):\n",
    "        if self.head is None:\n",
    "            return 'list is empty'\n",
    "        else:\n",
    "            if self.head==self.tail:\n",
    "                self.head=None\n",
    "                self.tail=None\n",
    "            else:\n",
    "                if loc==0:\n",
    "                    temp_node=self.head.next\n",
    "                    temp_node.prev=None\n",
    "                    self.head=temp_node\n",
    "                elif loc==-1:\n",
    "                    temp_node=self.tail.prev\n",
    "                    temp_node.next=None\n",
    "                    self.tail=temp_node\n",
    "                else:\n",
    "                    temp_node=self.head\n",
    "                    index=0\n",
    "                    while index<loc-1:\n",
    "                        temp_node=temp_node.next\n",
    "                        index+=1\n",
    "                    next_node=temp_node.next.next\n",
    "                    temp_node.next=next_node\n",
    "                    next_node.prev=temp_node\n",
    "    \n",
    "    def delete_entire(self):\n",
    "        self.head=None\n",
    "        self.tail=None\n",
    "            "
   ]
  },
  {
   "cell_type": "code",
   "execution_count": 319,
   "id": "4addb72c",
   "metadata": {},
   "outputs": [],
   "source": [
    "dll=double_linked_list()"
   ]
  },
  {
   "cell_type": "code",
   "execution_count": 320,
   "id": "8534ea19",
   "metadata": {},
   "outputs": [
    {
     "name": "stdout",
     "output_type": "stream",
     "text": [
      "[2]\n"
     ]
    }
   ],
   "source": [
    "dll.create(2)\n",
    "print([node.value for node in dll])"
   ]
  },
  {
   "cell_type": "code",
   "execution_count": 321,
   "id": "c6a5baa8",
   "metadata": {},
   "outputs": [
    {
     "name": "stdout",
     "output_type": "stream",
     "text": [
      "[5, 2]\n"
     ]
    }
   ],
   "source": [
    "dll.insert(5,0)\n",
    "print([node.value for node in dll])"
   ]
  },
  {
   "cell_type": "code",
   "execution_count": 322,
   "id": "742c9a8b",
   "metadata": {},
   "outputs": [
    {
     "name": "stdout",
     "output_type": "stream",
     "text": [
      "[5, 2, 9]\n"
     ]
    }
   ],
   "source": [
    "dll.insert(9,-1)\n",
    "print([node.value for node in dll])"
   ]
  },
  {
   "cell_type": "code",
   "execution_count": 323,
   "id": "562d7063",
   "metadata": {},
   "outputs": [
    {
     "name": "stdout",
     "output_type": "stream",
     "text": [
      "[5, 2, 1, 9]\n"
     ]
    }
   ],
   "source": [
    "dll.insert(1,2)\n",
    "print([node.value for node in dll])"
   ]
  },
  {
   "cell_type": "code",
   "execution_count": 324,
   "id": "27b0afbf",
   "metadata": {},
   "outputs": [
    {
     "name": "stdout",
     "output_type": "stream",
     "text": [
      "5\n",
      "2\n",
      "1\n",
      "9\n"
     ]
    }
   ],
   "source": [
    "dll.traverse_fwd()"
   ]
  },
  {
   "cell_type": "code",
   "execution_count": 325,
   "id": "45faaa6f",
   "metadata": {},
   "outputs": [
    {
     "name": "stdout",
     "output_type": "stream",
     "text": [
      "9\n",
      "1\n",
      "2\n",
      "5\n"
     ]
    }
   ],
   "source": [
    "dll.traverse_back()"
   ]
  },
  {
   "cell_type": "code",
   "execution_count": 326,
   "id": "8fbdadab",
   "metadata": {},
   "outputs": [
    {
     "name": "stdout",
     "output_type": "stream",
     "text": [
      "[5, 2, 42, 5, 70, 56, 7, 1, 9]\n"
     ]
    }
   ],
   "source": [
    "dll.insert(7,2)\n",
    "dll.insert(56,2)\n",
    "dll.insert(70,2)\n",
    "dll.insert(5,2)\n",
    "dll.insert(42,2)\n",
    "print([node.value for node in dll])"
   ]
  },
  {
   "cell_type": "code",
   "execution_count": 327,
   "id": "743db501",
   "metadata": {},
   "outputs": [
    {
     "name": "stdout",
     "output_type": "stream",
     "text": [
      "[2, 42, 5, 70, 56, 7, 1, 9]\n"
     ]
    }
   ],
   "source": [
    "dll.delete(0)\n",
    "print([node.value for node in dll])"
   ]
  },
  {
   "cell_type": "code",
   "execution_count": 328,
   "id": "afd75a4f",
   "metadata": {},
   "outputs": [
    {
     "name": "stdout",
     "output_type": "stream",
     "text": [
      "[2, 42, 5, 70, 56, 7, 1]\n"
     ]
    }
   ],
   "source": [
    "dll.delete(-1)\n",
    "print([node.value for node in dll])"
   ]
  },
  {
   "cell_type": "code",
   "execution_count": 329,
   "id": "56e3a3ac",
   "metadata": {},
   "outputs": [
    {
     "name": "stdout",
     "output_type": "stream",
     "text": [
      "[2, 42, 5, 70, 7, 1]\n"
     ]
    }
   ],
   "source": [
    "dll.delete(4)\n",
    "print([node.value for node in dll])"
   ]
  },
  {
   "cell_type": "code",
   "execution_count": 330,
   "id": "d72a1f15",
   "metadata": {},
   "outputs": [
    {
     "name": "stdout",
     "output_type": "stream",
     "text": [
      "[]\n"
     ]
    }
   ],
   "source": [
    "dll.delete_entire()\n",
    "print([node.value for node in dll])"
   ]
  },
  {
   "cell_type": "code",
   "execution_count": null,
   "id": "0712c886",
   "metadata": {},
   "outputs": [],
   "source": []
  },
  {
   "cell_type": "markdown",
   "id": "a57a68d7",
   "metadata": {},
   "source": [
    "## Circular Linked List"
   ]
  },
  {
   "cell_type": "code",
   "execution_count": 347,
   "id": "e1014e8d",
   "metadata": {},
   "outputs": [],
   "source": [
    "class Node:\n",
    "    def __init__(self,value=None):\n",
    "        self.next=None\n",
    "        self.value=value\n",
    "\n",
    "class circular_linked_list:\n",
    "    def __init__(self):\n",
    "        self.head=None\n",
    "        self.tail=None\n",
    "    \n",
    "    def __iter__(self):\n",
    "        temp_node=self.head\n",
    "        while temp_node:\n",
    "            yield temp_node\n",
    "            if temp_node==self.tail:\n",
    "                break\n",
    "            temp_node=temp_node.next\n",
    "    \n",
    "    def create(self,node_value):\n",
    "        next_node=Node(node_value)\n",
    "        self.head=next_node\n",
    "        self.tail=next_node\n",
    "        self.tail.next=next_node\n",
    "    \n",
    "    def insert(self,value,loc):\n",
    "        new_node = Node(value)\n",
    "        if self.head is None:\n",
    "            self.create_cll(value)\n",
    "        else:\n",
    "            if loc==0:\n",
    "                temp_node=self.head\n",
    "                self.tail.next=new_node\n",
    "                self.head=new_node\n",
    "                self.head.next=temp_node\n",
    "            elif loc==-1:\n",
    "                self.tail.next=new_node\n",
    "                self.tail=new_node\n",
    "                self.tail.next=self.head\n",
    "            else:\n",
    "                temp_node=self.head\n",
    "                index=0\n",
    "                while index<loc-1:\n",
    "                    temp_node=temp_node.next\n",
    "                    index+=1\n",
    "                next_node=temp_node.next\n",
    "                temp_node.next=new_node\n",
    "                new_node.next=next_node\n",
    "                \n",
    "    def traverse(self):\n",
    "        if self.head is None:\n",
    "            print('list is empty')\n",
    "        else:\n",
    "            temp_node=self.head\n",
    "            while temp_node:\n",
    "                print(temp_node.value)\n",
    "                if temp_node==self.tail:\n",
    "                    break\n",
    "                temp_node=temp_node.next\n",
    "                \n",
    "    def search(self,value):\n",
    "        if self.head is None:\n",
    "            return 'list is empty'\n",
    "        else:\n",
    "            temp_node=self.head\n",
    "            index=0\n",
    "            while temp_node:\n",
    "                if temp_node.value==value:\n",
    "                    return index\n",
    "                if temp_node.next==self.head:\n",
    "                    return 'not in list'\n",
    "                index+=1\n",
    "                temp_node=temp_node.next\n",
    "                \n",
    "    \n",
    "    def delete(self,loc):\n",
    "        if self.head is None:\n",
    "            print('list is empty')\n",
    "        else:\n",
    "            if self.head==self.tail:\n",
    "                self.head==None\n",
    "                self.tail==None\n",
    "            else:\n",
    "                if loc==0:\n",
    "                    temp_node=self.head.next\n",
    "                    self.head=temp_node\n",
    "                    self.tail.next=temp_node\n",
    "                elif loc==-1:\n",
    "                    temp_node=self.head\n",
    "                    while temp_node:\n",
    "                        if temp_node.next==self.tail:\n",
    "                            break\n",
    "                        temp_node=temp_node.next\n",
    "                    self.tail=temp_node\n",
    "                    self.tail.next=self.head\n",
    "                else:\n",
    "                    temp_node=self.head\n",
    "                    index=0\n",
    "                    while index<loc-1:\n",
    "                        temp_node=temp_node.next\n",
    "                        index+=1\n",
    "                    next_node=temp_node.next.next\n",
    "                    temp_node.next.next=None\n",
    "                    temp_node.next=next_node\n",
    "                    \n",
    "    def delete_entire(self):\n",
    "            self.head=None\n",
    "            self.tail=None"
   ]
  },
  {
   "cell_type": "code",
   "execution_count": 348,
   "id": "d05df397",
   "metadata": {},
   "outputs": [],
   "source": [
    "cll = circular_linked_list()"
   ]
  },
  {
   "cell_type": "code",
   "execution_count": 349,
   "id": "c91a9125",
   "metadata": {},
   "outputs": [
    {
     "name": "stdout",
     "output_type": "stream",
     "text": [
      "[3]\n"
     ]
    }
   ],
   "source": [
    "cll.create(3)\n",
    "print([node.value for node in cll])"
   ]
  },
  {
   "cell_type": "code",
   "execution_count": 350,
   "id": "db3a012e",
   "metadata": {},
   "outputs": [
    {
     "name": "stdout",
     "output_type": "stream",
     "text": [
      "[4, 3, 42, 5, 70, 56, 7, 5]\n"
     ]
    }
   ],
   "source": [
    "cll.insert(4,0)\n",
    "cll.insert(5,-1)\n",
    "cll.insert(7,2)\n",
    "cll.insert(56,2)\n",
    "cll.insert(70,2)\n",
    "cll.insert(5,2)\n",
    "cll.insert(42,2)\n",
    "print([node.value for node in cll])"
   ]
  },
  {
   "cell_type": "code",
   "execution_count": 351,
   "id": "41895c3e",
   "metadata": {},
   "outputs": [
    {
     "name": "stdout",
     "output_type": "stream",
     "text": [
      "4\n",
      "3\n",
      "42\n",
      "5\n",
      "70\n",
      "56\n",
      "7\n",
      "5\n"
     ]
    }
   ],
   "source": [
    "cll.traverse()"
   ]
  },
  {
   "cell_type": "code",
   "execution_count": 352,
   "id": "4d9aea6c",
   "metadata": {},
   "outputs": [
    {
     "name": "stdout",
     "output_type": "stream",
     "text": [
      "[3, 42, 5, 70, 56, 7, 5]\n"
     ]
    }
   ],
   "source": [
    "cll.delete(0)\n",
    "print([node.value for node in cll])"
   ]
  },
  {
   "cell_type": "code",
   "execution_count": 353,
   "id": "e44b68e4",
   "metadata": {},
   "outputs": [
    {
     "name": "stdout",
     "output_type": "stream",
     "text": [
      "[3, 42, 5, 70, 56, 7]\n"
     ]
    }
   ],
   "source": [
    "cll.delete(-1)\n",
    "print([node.value for node in cll])"
   ]
  },
  {
   "cell_type": "code",
   "execution_count": 354,
   "id": "2571f162",
   "metadata": {},
   "outputs": [
    {
     "name": "stdout",
     "output_type": "stream",
     "text": [
      "[3, 42, 5, 56, 7]\n"
     ]
    }
   ],
   "source": [
    "cll.delete(3)\n",
    "print([node.value for node in cll])"
   ]
  },
  {
   "cell_type": "code",
   "execution_count": 355,
   "id": "a18c8153",
   "metadata": {},
   "outputs": [
    {
     "data": {
      "text/plain": [
       "2"
      ]
     },
     "execution_count": 355,
     "metadata": {},
     "output_type": "execute_result"
    }
   ],
   "source": [
    "cll.search(5)"
   ]
  },
  {
   "cell_type": "code",
   "execution_count": 356,
   "id": "def8e535",
   "metadata": {},
   "outputs": [
    {
     "name": "stdout",
     "output_type": "stream",
     "text": [
      "[]\n"
     ]
    }
   ],
   "source": [
    "cll.delete_entire()\n",
    "print([node.value for node in cll])"
   ]
  },
  {
   "cell_type": "code",
   "execution_count": null,
   "id": "25b1c581",
   "metadata": {},
   "outputs": [],
   "source": []
  },
  {
   "cell_type": "markdown",
   "id": "be538bb6",
   "metadata": {},
   "source": [
    "## Circular Doubly linked list"
   ]
  },
  {
   "cell_type": "code",
   "execution_count": 380,
   "id": "fb56de20",
   "metadata": {},
   "outputs": [],
   "source": [
    "class Node:\n",
    "    def __init__(self,value=None):\n",
    "        self.next=None\n",
    "        self.prev=None\n",
    "        self.value=value\n",
    "        \n",
    "class circular_double_linked_list:\n",
    "    def __init__(self):\n",
    "        self.head=None\n",
    "        self.tail=None\n",
    "    \n",
    "    def __iter__(self):\n",
    "        temp_node=self.head\n",
    "        while temp_node:\n",
    "            yield temp_node\n",
    "            if temp_node==self.tail:\n",
    "                break\n",
    "            temp_node=temp_node.next\n",
    "    \n",
    "    def create(self,node_value):\n",
    "        new_node=Node(node_value)\n",
    "        self.head=new_node\n",
    "        self.tail=new_node\n",
    "    \n",
    "    def insert(self,value,loc):\n",
    "        new_node=Node(value)\n",
    "        if self.head is None:\n",
    "            print('list is empty')\n",
    "        else:\n",
    "            if loc==0:\n",
    "                new_node.next=self.head\n",
    "                self.tail.next=new_node\n",
    "                self.head.prev=new_node\n",
    "                self.head=new_node\n",
    "                new_node.prev=self.tail\n",
    "            elif loc==-1:\n",
    "                new_node.prev=self.tail\n",
    "                self.tail.next=new_node\n",
    "                self.tail=new_node\n",
    "                new_node.next=self.head\n",
    "                self.head.prev=new_node\n",
    "            else:\n",
    "                temp_node=self.head\n",
    "                index=0\n",
    "                while index<loc-1:\n",
    "                    temp_node=temp_node.next\n",
    "                    index+=1\n",
    "                next_node=temp_node.next\n",
    "                new_node.next=next_node\n",
    "                next_node.prev=new_node\n",
    "                temp_node.next=new_node\n",
    "                new_node.prev=temp_node\n",
    "    \n",
    "    def traverse_fwd(self):\n",
    "        temp_node=self.head\n",
    "        while temp_node:\n",
    "            print(temp_node.value)\n",
    "            if temp_node==self.tail:\n",
    "                break\n",
    "            temp_node=temp_node.next\n",
    "            \n",
    "    def traverse_back(self):\n",
    "        temp_node=self.tail\n",
    "        while temp_node:\n",
    "            print(temp_node.value)\n",
    "            if temp_node==self.head:\n",
    "                break\n",
    "            temp_node=temp_node.prev\n",
    "        \n",
    "    def search(self,value):\n",
    "        if self.head is None:\n",
    "            return 'list is empty'\n",
    "        else:\n",
    "            temp_node=self.head\n",
    "            index=0\n",
    "            while temp_node:\n",
    "                if temp_node.value==value:\n",
    "                    return index\n",
    "                if temp_node==self.tail:\n",
    "                    return 'value not in list'\n",
    "                index+=1\n",
    "                temp_node=temp_node.next\n",
    "                \n",
    "    def delete(self,loc):\n",
    "        if self.head is None:\n",
    "            print('list is empty')\n",
    "        else:\n",
    "            if self.head==self.tail:\n",
    "                self.head=None\n",
    "                self.tail=None\n",
    "            else:\n",
    "                if loc==0:\n",
    "                    self.head=self.head.next\n",
    "                    self.head.prev=self.tail\n",
    "                    self.tail.next=self.head\n",
    "                elif loc==-1:\n",
    "                    self.tail=self.tail.prev\n",
    "                    self.tail.next=self.head\n",
    "                    self.head.prev=self.tail\n",
    "                else:\n",
    "                    temp_node=self.head\n",
    "                    index=0\n",
    "                    while index<loc-1:\n",
    "                        temp_node=temp_node.next\n",
    "                        index+=1\n",
    "                    next_node=temp_node.next.next\n",
    "                    on_node=temp_node.next\n",
    "                    temp_node.next=next_node\n",
    "                    next_node.prev=temp_node\n",
    "                    on_node.next=None\n",
    "                    on_node.prev=None\n",
    "    \n",
    "    def delete_entire(self):\n",
    "        if self.head is None:\n",
    "            print('list is empty')\n",
    "        else:\n",
    "            self.head=None\n",
    "            self.tail=None\n",
    "                    \n",
    "    \n",
    "cdll = circular_double_linked_list()"
   ]
  },
  {
   "cell_type": "code",
   "execution_count": 381,
   "id": "8b7f1f2f",
   "metadata": {},
   "outputs": [
    {
     "name": "stdout",
     "output_type": "stream",
     "text": [
      "[3]\n"
     ]
    }
   ],
   "source": [
    "cdll.create(3)\n",
    "print([node.value for node in cdll])"
   ]
  },
  {
   "cell_type": "code",
   "execution_count": 382,
   "id": "66faa60b",
   "metadata": {},
   "outputs": [
    {
     "name": "stdout",
     "output_type": "stream",
     "text": [
      "[4, 3, 42, 5, 70, 56, 7, 5]\n"
     ]
    }
   ],
   "source": [
    "cdll.insert(4,0)\n",
    "cdll.insert(5,-1)\n",
    "cdll.insert(7,2)\n",
    "cdll.insert(56,2)\n",
    "cdll.insert(70,2)\n",
    "cdll.insert(5,2)\n",
    "cdll.insert(42,2)\n",
    "print([node.value for node in cdll])"
   ]
  },
  {
   "cell_type": "code",
   "execution_count": 383,
   "id": "583b59b1",
   "metadata": {},
   "outputs": [
    {
     "name": "stdout",
     "output_type": "stream",
     "text": [
      "4\n",
      "3\n",
      "42\n",
      "5\n",
      "70\n",
      "56\n",
      "7\n",
      "5\n"
     ]
    }
   ],
   "source": [
    "cdll.traverse_fwd()"
   ]
  },
  {
   "cell_type": "code",
   "execution_count": 384,
   "id": "a8ac7113",
   "metadata": {},
   "outputs": [
    {
     "name": "stdout",
     "output_type": "stream",
     "text": [
      "5\n",
      "7\n",
      "56\n",
      "70\n",
      "5\n",
      "42\n",
      "3\n",
      "4\n"
     ]
    }
   ],
   "source": [
    "cdll.traverse_back()"
   ]
  },
  {
   "cell_type": "code",
   "execution_count": 385,
   "id": "4ac931c8",
   "metadata": {},
   "outputs": [
    {
     "name": "stdout",
     "output_type": "stream",
     "text": [
      "[4, 3, 42, 5, 70, 56, 7, 5]\n"
     ]
    }
   ],
   "source": [
    "print([node.value for node in cdll])"
   ]
  },
  {
   "cell_type": "code",
   "execution_count": 386,
   "id": "7be2a5bb",
   "metadata": {},
   "outputs": [
    {
     "name": "stdout",
     "output_type": "stream",
     "text": [
      "[4, 3, 42, 70, 56, 7, 5]\n"
     ]
    }
   ],
   "source": [
    "cdll.delete(3)\n",
    "print([node.value for node in cdll])"
   ]
  },
  {
   "cell_type": "code",
   "execution_count": 387,
   "id": "716a7466",
   "metadata": {},
   "outputs": [
    {
     "data": {
      "text/plain": [
       "3"
      ]
     },
     "execution_count": 387,
     "metadata": {},
     "output_type": "execute_result"
    }
   ],
   "source": [
    "cdll.search(70)"
   ]
  },
  {
   "cell_type": "code",
   "execution_count": 388,
   "id": "effb0e47",
   "metadata": {},
   "outputs": [],
   "source": [
    "cdll.delete_entire()"
   ]
  },
  {
   "cell_type": "code",
   "execution_count": 391,
   "id": "3a9775ec",
   "metadata": {},
   "outputs": [
    {
     "name": "stdout",
     "output_type": "stream",
     "text": [
      "[]\n"
     ]
    }
   ],
   "source": [
    "print([node.value for node in cdll])"
   ]
  }
 ],
 "metadata": {
  "kernelspec": {
   "display_name": "Python 3 (ipykernel)",
   "language": "python",
   "name": "python3"
  },
  "language_info": {
   "codemirror_mode": {
    "name": "ipython",
    "version": 3
   },
   "file_extension": ".py",
   "mimetype": "text/x-python",
   "name": "python",
   "nbconvert_exporter": "python",
   "pygments_lexer": "ipython3",
   "version": "3.9.12"
  }
 },
 "nbformat": 4,
 "nbformat_minor": 5
}
