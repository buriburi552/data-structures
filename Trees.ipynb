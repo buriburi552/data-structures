{
 "cells": [
  {
   "cell_type": "markdown",
   "id": "76681297",
   "metadata": {},
   "source": [
    "## basic Tree"
   ]
  },
  {
   "cell_type": "code",
   "execution_count": 1,
   "id": "add99453",
   "metadata": {},
   "outputs": [],
   "source": [
    "class tree_node:\n",
    "    def __init__(self,value,children=[]):\n",
    "        self.value=value\n",
    "        self.children=children\n",
    "        \n",
    "    def __str__(self, level=0):\n",
    "        ret = \" _\" * level +str(self.value) + \"\\n\"\n",
    "        for child in self.children:\n",
    "            ret+= child.__str__(level + 1)\n",
    "        return ret\n",
    "    \n",
    "    def add_child(self,tree_node):\n",
    "        self.children.append(tree_node)"
   ]
  },
  {
   "cell_type": "code",
   "execution_count": 2,
   "id": "3d44db7c",
   "metadata": {},
   "outputs": [],
   "source": [
    "tree = tree_node('Drinks',[])"
   ]
  },
  {
   "cell_type": "code",
   "execution_count": 3,
   "id": "a74701df",
   "metadata": {},
   "outputs": [
    {
     "name": "stdout",
     "output_type": "stream",
     "text": [
      "Drinks\n",
      "\n"
     ]
    }
   ],
   "source": [
    "print(tree)"
   ]
  },
  {
   "cell_type": "code",
   "execution_count": 4,
   "id": "dabd139c",
   "metadata": {},
   "outputs": [
    {
     "data": {
      "text/plain": [
       "[]"
      ]
     },
     "execution_count": 4,
     "metadata": {},
     "output_type": "execute_result"
    }
   ],
   "source": [
    "tree.children"
   ]
  },
  {
   "cell_type": "code",
   "execution_count": 5,
   "id": "e7e7b9e8",
   "metadata": {},
   "outputs": [],
   "source": [
    "hot = tree_node('Hot',[])\n",
    "cold = tree_node('cold',[])"
   ]
  },
  {
   "cell_type": "code",
   "execution_count": 6,
   "id": "45cf0daf",
   "metadata": {},
   "outputs": [
    {
     "name": "stdout",
     "output_type": "stream",
     "text": [
      "Drinks\n",
      "\n"
     ]
    }
   ],
   "source": [
    "print(tree)"
   ]
  },
  {
   "cell_type": "code",
   "execution_count": 7,
   "id": "b3a05992",
   "metadata": {},
   "outputs": [
    {
     "name": "stdout",
     "output_type": "stream",
     "text": [
      "Drinks\n",
      " _Hot\n",
      " _cold\n",
      "\n"
     ]
    }
   ],
   "source": [
    "tree.add_child(hot)\n",
    "tree.add_child(cold)\n",
    "print(tree)"
   ]
  },
  {
   "cell_type": "code",
   "execution_count": 8,
   "id": "47eef31f",
   "metadata": {},
   "outputs": [
    {
     "data": {
      "text/plain": [
       "[<__main__.tree_node at 0x1ea3dae1310>, <__main__.tree_node at 0x1ea3daf7eb0>]"
      ]
     },
     "execution_count": 8,
     "metadata": {},
     "output_type": "execute_result"
    }
   ],
   "source": [
    "tree.children"
   ]
  },
  {
   "cell_type": "code",
   "execution_count": 9,
   "id": "0f975cb4",
   "metadata": {},
   "outputs": [
    {
     "name": "stdout",
     "output_type": "stream",
     "text": [
      "Drinks\n",
      " _Hot\n",
      " _ _tea\n",
      " _ _ _green tea\n",
      " _ _ _black tea\n",
      " _ _coffee\n",
      " _cold\n",
      " _ _water\n",
      " _ _soda\n",
      "\n"
     ]
    }
   ],
   "source": [
    "tea = tree_node('tea',[])\n",
    "coffee = tree_node('coffee',[])\n",
    "water = tree_node('water',[])\n",
    "soda = tree_node('soda',[])\n",
    "hot.add_child(tea)\n",
    "hot.add_child(coffee)\n",
    "cold.add_child(water)\n",
    "cold.add_child(soda)\n",
    "tea.add_child(tree_node('green tea',[]))\n",
    "tea.add_child(tree_node('black tea',[]))\n",
    "\n",
    "print(tree)\n"
   ]
  },
  {
   "cell_type": "markdown",
   "id": "aab751ed",
   "metadata": {},
   "source": [
    "## Binary Tree"
   ]
  },
  {
   "cell_type": "markdown",
   "id": "c393ad8d",
   "metadata": {},
   "source": [
    "### linked list queue for traversal"
   ]
  },
  {
   "cell_type": "code",
   "execution_count": 10,
   "id": "c764f546",
   "metadata": {},
   "outputs": [],
   "source": [
    "class Node:\n",
    "    def __init__(self,value=None):\n",
    "        self.value=value\n",
    "        self.next=None\n",
    "        \n",
    "    def __str__(self):\n",
    "        return str(self.value)\n",
    "        \n",
    "class linked_list:\n",
    "    def __init__(self):\n",
    "        self.head=None\n",
    "        self.tail=None\n",
    "        \n",
    "    def __iter__(self):\n",
    "        temp_node=self.head\n",
    "        while temp_node:\n",
    "            yield temp_node\n",
    "            temp_node=temp_node.next\n",
    "            \n",
    "    \n",
    "class Queue1:\n",
    "    def __init__(self):\n",
    "        self.linked_list = linked_list()\n",
    "    \n",
    "    def __str__(self):\n",
    "        values = [str(x) for x in self.linked_list]\n",
    "        return ' '.join(values)\n",
    "    \n",
    "    def is_empty(self):\n",
    "        if self.linked_list.head is None:\n",
    "            return True\n",
    "        return False\n",
    "    \n",
    "    def enqueue(self,value):\n",
    "        new_node=Node(value)\n",
    "        if self.linked_list.head is None:\n",
    "            self.linked_list.head=new_node\n",
    "            self.linked_list.tail=new_node\n",
    "        else:\n",
    "            self.linked_list.tail.next=new_node\n",
    "            self.linked_list.tail=new_node\n",
    "    \n",
    "    def dequeue(self):\n",
    "        if self.linked_list.head is None:\n",
    "            return \n",
    "        else:\n",
    "            temp_node=self.linked_list.head\n",
    "            if self.linked_list.head==self.linked_list.tail:\n",
    "                self.linked_list.head=None\n",
    "                self.linked_list.tail=None\n",
    "            else:\n",
    "                self.linked_list.head=self.linked_list.head.next\n",
    "            return temp_node\n",
    "        \n",
    "class tree_node:\n",
    "    def __init__(self,data):\n",
    "        self.data=data\n",
    "        self.left_child=None\n",
    "        self.right_child=None"
   ]
  },
  {
   "cell_type": "code",
   "execution_count": 11,
   "id": "e4d30186",
   "metadata": {},
   "outputs": [],
   "source": [
    "new_tree = tree_node('Drinks')"
   ]
  },
  {
   "cell_type": "code",
   "execution_count": 12,
   "id": "b81f9eca",
   "metadata": {},
   "outputs": [],
   "source": [
    "hot = tree_node('hot')\n",
    "cold = tree_node('cold')\n",
    "new_tree.left_child = hot\n",
    "new_tree.right_child = cold"
   ]
  },
  {
   "cell_type": "code",
   "execution_count": 13,
   "id": "e8258429",
   "metadata": {},
   "outputs": [],
   "source": [
    "def preorder_traversal(root_node):\n",
    "    if not root_node:\n",
    "        return\n",
    "    print(root_node.data)\n",
    "    preorder_traversal(root_node.left_child)\n",
    "    preorder_traversal(root_node.right_child)\n",
    "    \n",
    "def inorder_traversal(root_node):\n",
    "    if not root_node:\n",
    "        return None\n",
    "    inorder_traversal(root_node.left_child)\n",
    "    print(root_node.data)\n",
    "    inorder_traversal(root_node.right_child)\n",
    "\n",
    "def postorder_traversal(root_node):\n",
    "    if not root_node:\n",
    "        return \n",
    "    postorder_traversal(root_node.left_child)\n",
    "    postorder_traversal(root_node.right_child)\n",
    "    print(root_node.data)\n",
    "    \n",
    "def levelorder_traversal(root_node):\n",
    "    if not root_node:\n",
    "        return\n",
    "    else:\n",
    "        queue=Queue1()\n",
    "        queue.enqueue(root_node)\n",
    "        while not(queue.is_empty()):\n",
    "            root=queue.dequeue()\n",
    "            print(root.value.data)\n",
    "            if root.value.left_child is not None:\n",
    "                queue.enqueue(root.value.left_child)\n",
    "            if root.value.right_child is not None:\n",
    "                queue.enqueue(root.value.right_child)\n",
    "                \n",
    "def search(root_node,node_value):\n",
    "    if not root_node:\n",
    "        return \n",
    "    else:\n",
    "        queue=Queue1()\n",
    "        queue.enqueue(root_node)\n",
    "        while not(queue.is_empty()):\n",
    "            root=queue.dequeue()\n",
    "            if root.value.data==node_value:\n",
    "                return 'node exists'\n",
    "            if root.value.left_child is not None:\n",
    "                queue.enqueue(root.value.left_child)\n",
    "            if root.value.right_child is not None:\n",
    "                queue.enqueue(root.value.right_child)\n",
    "                \n",
    "        return 'not found'"
   ]
  },
  {
   "cell_type": "code",
   "execution_count": 14,
   "id": "71f35006",
   "metadata": {},
   "outputs": [
    {
     "name": "stdout",
     "output_type": "stream",
     "text": [
      "hot\n",
      "Drinks\n",
      "cold\n"
     ]
    }
   ],
   "source": [
    "inorder_traversal(new_tree)"
   ]
  },
  {
   "cell_type": "code",
   "execution_count": 15,
   "id": "432ce61d",
   "metadata": {
    "scrolled": true
   },
   "outputs": [
    {
     "name": "stdout",
     "output_type": "stream",
     "text": [
      "Drinks\n",
      "hot\n",
      "cold\n"
     ]
    }
   ],
   "source": [
    "preorder_traversal(new_tree)"
   ]
  },
  {
   "cell_type": "code",
   "execution_count": 16,
   "id": "70868ea3",
   "metadata": {},
   "outputs": [
    {
     "name": "stdout",
     "output_type": "stream",
     "text": [
      "hot\n",
      "cold\n",
      "Drinks\n"
     ]
    }
   ],
   "source": [
    "postorder_traversal(new_tree)"
   ]
  },
  {
   "cell_type": "code",
   "execution_count": 17,
   "id": "5c61ea78",
   "metadata": {},
   "outputs": [
    {
     "name": "stdout",
     "output_type": "stream",
     "text": [
      "Drinks\n",
      "hot\n",
      "cold\n"
     ]
    }
   ],
   "source": [
    "levelorder_traversal(new_tree)"
   ]
  },
  {
   "cell_type": "code",
   "execution_count": 18,
   "id": "aedbf4ca",
   "metadata": {},
   "outputs": [
    {
     "data": {
      "text/plain": [
       "'node exists'"
      ]
     },
     "execution_count": 18,
     "metadata": {},
     "output_type": "execute_result"
    }
   ],
   "source": [
    "search(new_tree,'cold')"
   ]
  },
  {
   "cell_type": "code",
   "execution_count": null,
   "id": "cba65c70",
   "metadata": {},
   "outputs": [],
   "source": []
  },
  {
   "cell_type": "code",
   "execution_count": null,
   "id": "24f3a7d9",
   "metadata": {},
   "outputs": [],
   "source": []
  },
  {
   "cell_type": "code",
   "execution_count": 19,
   "id": "e706adb4",
   "metadata": {},
   "outputs": [],
   "source": [
    "class Node:\n",
    "    def __init__(self,value=None):\n",
    "        self.value=value\n",
    "        self.next=None\n",
    "        \n",
    "class linked_list:\n",
    "    def __init__(self):\n",
    "        self.head=None\n",
    "        self.tail=None\n",
    "        \n",
    "    def __iter__(self):\n",
    "        temp=self.head\n",
    "        while temp_node:\n",
    "            yield temp_node\n",
    "            temp_node=temp_node.next\n",
    "\n",
    "class Queue:\n",
    "    def __init__(self):\n",
    "        self.linked_list=linked_list()\n",
    "    \n",
    "    def is_empty(self):\n",
    "        if self.linked_list.head is None:\n",
    "            return True\n",
    "        return False\n",
    "    \n",
    "    def enqueue(self,value):\n",
    "        new_node=Node(value)\n",
    "        if self.linked_list.head is None:\n",
    "            self.linked_list.head=new_node\n",
    "            self.linked_list.tail=new_node\n",
    "        else:\n",
    "            self.linked_list.tail.next=new_node\n",
    "            self.linked_list.tail=new_node\n",
    "            \n",
    "    def dequeue(self):\n",
    "        if self.linked_list.head is None:\n",
    "            return \n",
    "        else:\n",
    "            temp = self.linked_list.head\n",
    "            if self.linked_list.head==self.linked_list.tail:\n",
    "                self.linked_list.head=None\n",
    "                self.linked_list.tail=None\n",
    "            else:\n",
    "                self.linked_list.head=self.linked_list.head.next\n",
    "            return temp\n",
    "    \n",
    "    def peek(self):\n",
    "        if self.linked_list.head is None:\n",
    "            return\n",
    "        return self.linked_list.head\n"
   ]
  },
  {
   "cell_type": "code",
   "execution_count": 20,
   "id": "bad618e6",
   "metadata": {},
   "outputs": [],
   "source": [
    "class binary_tree:\n",
    "    def __init__(self,data=None,right_child=None,left_child=None):\n",
    "        self.data=data\n",
    "        self.right_child=right_child\n",
    "        self.left_child=left_child"
   ]
  },
  {
   "cell_type": "code",
   "execution_count": 21,
   "id": "d52fda24",
   "metadata": {},
   "outputs": [],
   "source": [
    "new_tree = binary_tree('Drinks')"
   ]
  },
  {
   "cell_type": "code",
   "execution_count": 22,
   "id": "6d59d1eb",
   "metadata": {},
   "outputs": [],
   "source": [
    "hot = binary_tree('hot')\n",
    "cold=binary_tree('cold')\n",
    "new_tree.left_child = hot\n",
    "new_tree.right_child = cold\n",
    "\n",
    "tea = binary_tree('tea')\n",
    "coffee = binary_tree('coffee')\n",
    "water = binary_tree('water')\n",
    "soda = binary_tree('soda')\n",
    "hot.left_child = tea\n",
    "hot.right_child = coffee\n",
    "cold.left_child = water\n",
    "cold.right_child = soda\n",
    "\n",
    "black_tea = binary_tree('black tea')\n",
    "green_tea = binary_tree('green tea')\n",
    "tea.left_child = black_tea\n",
    "tea.right_child = green_tea"
   ]
  },
  {
   "cell_type": "code",
   "execution_count": 23,
   "id": "244e8e3a",
   "metadata": {},
   "outputs": [],
   "source": [
    "def preorder_traversal(root_node):\n",
    "    if not root_node:\n",
    "        return\n",
    "    else:\n",
    "        print(root_node.data)\n",
    "        preorder_traversal(root_node.left_child)\n",
    "        preorder_traversal(root_node.right_child)\n",
    "        \n",
    "def inorder_traversal(root_node):\n",
    "    if not root_node:\n",
    "        return\n",
    "    else:\n",
    "        inorder_traversal(root_node.left_child)\n",
    "        print(root_node.data)\n",
    "        inorder_traversal(root_node.right_child)\n",
    "        \n",
    "def postorder_traversal(root_node):\n",
    "    if not root_node:\n",
    "        return\n",
    "    else:\n",
    "        postorder_traversal(root_node.left_child)\n",
    "        postorder_traversal(root_node.right_child)\n",
    "        print(root_node.data)\n",
    "        \n",
    "def levelorder_traversal(root_node):\n",
    "    if not root_node:\n",
    "        return\n",
    "    else:\n",
    "        queue=Queue()\n",
    "        queue.enqueue(root_node)\n",
    "        while not(queue.is_empty()):\n",
    "            root = queue.dequeue()\n",
    "            print('-',root.value.data)\n",
    "            \n",
    "            if root.value.left_child is not None:\n",
    "                queue.enqueue(root.value.left_child)\n",
    "            if root.value.right_child is not None:\n",
    "                queue.enqueue(root.value.right_child)"
   ]
  },
  {
   "cell_type": "code",
   "execution_count": 24,
   "id": "3c7fb375",
   "metadata": {},
   "outputs": [
    {
     "name": "stdout",
     "output_type": "stream",
     "text": [
      "Drinks\n",
      "hot\n",
      "tea\n",
      "black tea\n",
      "green tea\n",
      "coffee\n",
      "cold\n",
      "water\n",
      "soda\n"
     ]
    }
   ],
   "source": [
    "preorder_traversal(new_tree)"
   ]
  },
  {
   "cell_type": "code",
   "execution_count": 25,
   "id": "182a6a08",
   "metadata": {},
   "outputs": [
    {
     "name": "stdout",
     "output_type": "stream",
     "text": [
      "black tea\n",
      "tea\n",
      "green tea\n",
      "hot\n",
      "coffee\n",
      "Drinks\n",
      "water\n",
      "cold\n",
      "soda\n"
     ]
    }
   ],
   "source": [
    "inorder_traversal(new_tree) "
   ]
  },
  {
   "cell_type": "code",
   "execution_count": 26,
   "id": "82bbf87d",
   "metadata": {},
   "outputs": [
    {
     "name": "stdout",
     "output_type": "stream",
     "text": [
      "black tea\n",
      "green tea\n",
      "tea\n",
      "coffee\n",
      "hot\n",
      "water\n",
      "soda\n",
      "cold\n",
      "Drinks\n"
     ]
    }
   ],
   "source": [
    "postorder_traversal(new_tree)"
   ]
  },
  {
   "cell_type": "code",
   "execution_count": 27,
   "id": "5c4b578e",
   "metadata": {},
   "outputs": [
    {
     "name": "stdout",
     "output_type": "stream",
     "text": [
      "- Drinks\n",
      "- hot\n",
      "- cold\n",
      "- tea\n",
      "- coffee\n",
      "- water\n",
      "- soda\n",
      "- black tea\n",
      "- green tea\n"
     ]
    }
   ],
   "source": [
    "levelorder_traversal(new_tree)"
   ]
  },
  {
   "cell_type": "code",
   "execution_count": 28,
   "id": "7695c7e9",
   "metadata": {},
   "outputs": [],
   "source": [
    "def tree_search(root_node,node_value):\n",
    "    if not root_node:\n",
    "        return\n",
    "    else:\n",
    "        queue=Queue()\n",
    "        queue.enqueue(root_node)\n",
    "        while not(queue.is_empty()):\n",
    "            root = queue.dequeue()\n",
    "            if root.value.data==node_value:\n",
    "                return 'found'\n",
    "            if root.value.left_child is not None:\n",
    "                queue.enqueue(root.value.left_child)\n",
    "            if root.value.right_child is not None:\n",
    "                queue.enqueue(root.value.right_child)\n",
    "            \n",
    "            \n",
    "        return 'not in tree'"
   ]
  },
  {
   "cell_type": "code",
   "execution_count": 29,
   "id": "970f22d5",
   "metadata": {},
   "outputs": [
    {
     "data": {
      "text/plain": [
       "'found'"
      ]
     },
     "execution_count": 29,
     "metadata": {},
     "output_type": "execute_result"
    }
   ],
   "source": [
    "tree_search(new_tree,'coffee')"
   ]
  },
  {
   "cell_type": "code",
   "execution_count": 31,
   "id": "e1df2647",
   "metadata": {},
   "outputs": [],
   "source": [
    "def tree_insert(root_node,node_value):\n",
    "    new_node=Node(node_value)\n",
    "    if root_node is None:\n",
    "        root_node = new_node\n",
    "    else:\n",
    "        queue=Queue()\n",
    "        queue.enqueue(root_node)\n",
    "        while not(queue.is_empty()):\n",
    "            root = queue.dequeue()\n",
    "            if root.value.left_child is not None:\n",
    "                queue.enqueue(root.value.left_child)\n",
    "            else:\n",
    "                root.value.left_child=new_node\n",
    "                return 'inserted'\n",
    "            if root.value.right_child is not None:\n",
    "                queue.enqueue(root.value.right_child)\n",
    "            else:\n",
    "                root.value.right_child=new_node"
   ]
  },
  {
   "cell_type": "code",
   "execution_count": 32,
   "id": "1a735dae",
   "metadata": {},
   "outputs": [],
   "source": [
    "tree2 = binary_tree()"
   ]
  },
  {
   "cell_type": "code",
   "execution_count": 33,
   "id": "b77d49ac",
   "metadata": {},
   "outputs": [
    {
     "data": {
      "text/plain": [
       "'inserted'"
      ]
     },
     "execution_count": 33,
     "metadata": {},
     "output_type": "execute_result"
    }
   ],
   "source": [
    "tree_insert(tree2,'animal')"
   ]
  },
  {
   "cell_type": "code",
   "execution_count": 34,
   "id": "1b80945c",
   "metadata": {},
   "outputs": [
    {
     "name": "stdout",
     "output_type": "stream",
     "text": [
      "- None\n"
     ]
    },
    {
     "ename": "AttributeError",
     "evalue": "'Node' object has no attribute 'data'",
     "output_type": "error",
     "traceback": [
      "\u001b[1;31m---------------------------------------------------------------------------\u001b[0m",
      "\u001b[1;31mAttributeError\u001b[0m                            Traceback (most recent call last)",
      "Input \u001b[1;32mIn [34]\u001b[0m, in \u001b[0;36m<cell line: 1>\u001b[1;34m()\u001b[0m\n\u001b[1;32m----> 1\u001b[0m \u001b[43mlevelorder_traversal\u001b[49m\u001b[43m(\u001b[49m\u001b[43mtree2\u001b[49m\u001b[43m)\u001b[49m\n",
      "Input \u001b[1;32mIn [23]\u001b[0m, in \u001b[0;36mlevelorder_traversal\u001b[1;34m(root_node)\u001b[0m\n\u001b[0;32m     31\u001b[0m \u001b[38;5;28;01mwhile\u001b[39;00m \u001b[38;5;129;01mnot\u001b[39;00m(queue\u001b[38;5;241m.\u001b[39mis_empty()):\n\u001b[0;32m     32\u001b[0m     root \u001b[38;5;241m=\u001b[39m queue\u001b[38;5;241m.\u001b[39mdequeue()\n\u001b[1;32m---> 33\u001b[0m     \u001b[38;5;28mprint\u001b[39m(\u001b[38;5;124m'\u001b[39m\u001b[38;5;124m-\u001b[39m\u001b[38;5;124m'\u001b[39m,\u001b[43mroot\u001b[49m\u001b[38;5;241;43m.\u001b[39;49m\u001b[43mvalue\u001b[49m\u001b[38;5;241;43m.\u001b[39;49m\u001b[43mdata\u001b[49m)\n\u001b[0;32m     35\u001b[0m     \u001b[38;5;28;01mif\u001b[39;00m root\u001b[38;5;241m.\u001b[39mvalue\u001b[38;5;241m.\u001b[39mleft_child \u001b[38;5;129;01mis\u001b[39;00m \u001b[38;5;129;01mnot\u001b[39;00m \u001b[38;5;28;01mNone\u001b[39;00m:\n\u001b[0;32m     36\u001b[0m         queue\u001b[38;5;241m.\u001b[39menqueue(root\u001b[38;5;241m.\u001b[39mvalue\u001b[38;5;241m.\u001b[39mleft_child)\n",
      "\u001b[1;31mAttributeError\u001b[0m: 'Node' object has no attribute 'data'"
     ]
    }
   ],
   "source": [
    "levelorder_traversal(tree2)"
   ]
  },
  {
   "cell_type": "code",
   "execution_count": null,
   "id": "a715ef4f",
   "metadata": {},
   "outputs": [],
   "source": []
  }
 ],
 "metadata": {
  "kernelspec": {
   "display_name": "Python 3 (ipykernel)",
   "language": "python",
   "name": "python3"
  },
  "language_info": {
   "codemirror_mode": {
    "name": "ipython",
    "version": 3
   },
   "file_extension": ".py",
   "mimetype": "text/x-python",
   "name": "python",
   "nbconvert_exporter": "python",
   "pygments_lexer": "ipython3",
   "version": "3.9.12"
  }
 },
 "nbformat": 4,
 "nbformat_minor": 5
}
