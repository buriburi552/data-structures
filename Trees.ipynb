{
 "cells": [
  {
   "cell_type": "markdown",
   "id": "76681297",
   "metadata": {},
   "source": [
    "## basic Tree"
   ]
  },
  {
   "cell_type": "code",
   "execution_count": 53,
   "id": "add99453",
   "metadata": {},
   "outputs": [],
   "source": [
    "class tree_node:\n",
    "    def __init__(self,value,children=[]):\n",
    "        self.value=value\n",
    "        self.children=children\n",
    "        \n",
    "    def __str__(self, level=0):\n",
    "        ret = \" _\" * level +str(self.value) + \"\\n\"\n",
    "        for child in self.children:\n",
    "            ret+= child.__str__(level + 1)\n",
    "        return ret\n",
    "    \n",
    "    def add_child(self,tree_node):\n",
    "        self.children.append(tree_node)"
   ]
  },
  {
   "cell_type": "code",
   "execution_count": 54,
   "id": "3d44db7c",
   "metadata": {},
   "outputs": [],
   "source": [
    "tree = tree_node('Drinks',[])"
   ]
  },
  {
   "cell_type": "code",
   "execution_count": 55,
   "id": "a74701df",
   "metadata": {},
   "outputs": [
    {
     "name": "stdout",
     "output_type": "stream",
     "text": [
      "Drinks\n",
      "\n"
     ]
    }
   ],
   "source": [
    "print(tree)"
   ]
  },
  {
   "cell_type": "code",
   "execution_count": 56,
   "id": "e7e7b9e8",
   "metadata": {},
   "outputs": [],
   "source": [
    "hot = tree_node('Hot',[])\n",
    "cold = tree_node('cold',[])"
   ]
  },
  {
   "cell_type": "code",
   "execution_count": 57,
   "id": "45cf0daf",
   "metadata": {},
   "outputs": [
    {
     "name": "stdout",
     "output_type": "stream",
     "text": [
      "Drinks\n",
      "\n"
     ]
    }
   ],
   "source": [
    "print(tree)"
   ]
  },
  {
   "cell_type": "code",
   "execution_count": 58,
   "id": "b3a05992",
   "metadata": {},
   "outputs": [
    {
     "name": "stdout",
     "output_type": "stream",
     "text": [
      "Drinks\n",
      " _Hot\n",
      " _cold\n",
      "\n"
     ]
    }
   ],
   "source": [
    "tree.add_child(hot)\n",
    "tree.add_child(cold)\n",
    "print(tree)"
   ]
  },
  {
   "cell_type": "code",
   "execution_count": 59,
   "id": "0f975cb4",
   "metadata": {},
   "outputs": [
    {
     "name": "stdout",
     "output_type": "stream",
     "text": [
      "Drinks\n",
      " _Hot\n",
      " _ _tea\n",
      " _ _ _green tea\n",
      " _ _ _black tea\n",
      " _ _coffee\n",
      " _cold\n",
      " _ _water\n",
      " _ _soda\n",
      "\n"
     ]
    }
   ],
   "source": [
    "tea = tree_node('tea',[])\n",
    "coffee = tree_node('coffee',[])\n",
    "water = tree_node('water',[])\n",
    "soda = tree_node('soda',[])\n",
    "hot.add_child(tea)\n",
    "hot.add_child(coffee)\n",
    "cold.add_child(water)\n",
    "cold.add_child(soda)\n",
    "tea.add_child(tree_node('green tea',[]))\n",
    "tea.add_child(tree_node('black tea',[]))\n",
    "\n",
    "print(tree)\n"
   ]
  },
  {
   "cell_type": "markdown",
   "id": "aab751ed",
   "metadata": {},
   "source": [
    "## Binary Tree"
   ]
  },
  {
   "cell_type": "code",
   "execution_count": null,
   "id": "87651b18",
   "metadata": {},
   "outputs": [],
   "source": [
    "class binary_tree:\n",
    "    def __init__(self,value):\n",
    "        self.right_child=None\n",
    "        self.left_child=None\n",
    "        self.value=value"
   ]
  }
 ],
 "metadata": {
  "kernelspec": {
   "display_name": "Python 3 (ipykernel)",
   "language": "python",
   "name": "python3"
  },
  "language_info": {
   "codemirror_mode": {
    "name": "ipython",
    "version": 3
   },
   "file_extension": ".py",
   "mimetype": "text/x-python",
   "name": "python",
   "nbconvert_exporter": "python",
   "pygments_lexer": "ipython3",
   "version": "3.9.12"
  }
 },
 "nbformat": 4,
 "nbformat_minor": 5
}
