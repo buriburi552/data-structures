{
 "cells": [
  {
   "cell_type": "markdown",
   "id": "76681297",
   "metadata": {},
   "source": [
    "## basic Tree"
   ]
  },
  {
   "cell_type": "code",
   "execution_count": 14,
   "id": "add99453",
   "metadata": {},
   "outputs": [],
   "source": [
    "class tree_node:\n",
    "    def __init__(self,value,children=[]):\n",
    "        self.value=value\n",
    "        self.children=children\n",
    "        \n",
    "    def __str__(self, level=0):\n",
    "        ret = \" _\" * level +str(self.value) + \"\\n\"\n",
    "        for child in self.children:\n",
    "            ret+= child.__str__(level + 1)\n",
    "        return ret\n",
    "    \n",
    "    def add_child(self,tree_node):\n",
    "        self.children.append(tree_node)"
   ]
  },
  {
   "cell_type": "code",
   "execution_count": 15,
   "id": "3d44db7c",
   "metadata": {},
   "outputs": [],
   "source": [
    "tree = tree_node('Drinks',[])"
   ]
  },
  {
   "cell_type": "code",
   "execution_count": 16,
   "id": "a74701df",
   "metadata": {},
   "outputs": [
    {
     "name": "stdout",
     "output_type": "stream",
     "text": [
      "Drinks\n",
      "\n"
     ]
    }
   ],
   "source": [
    "print(tree)"
   ]
  },
  {
   "cell_type": "code",
   "execution_count": 17,
   "id": "dabd139c",
   "metadata": {},
   "outputs": [
    {
     "data": {
      "text/plain": [
       "[]"
      ]
     },
     "execution_count": 17,
     "metadata": {},
     "output_type": "execute_result"
    }
   ],
   "source": [
    "tree.children"
   ]
  },
  {
   "cell_type": "code",
   "execution_count": 18,
   "id": "e7e7b9e8",
   "metadata": {},
   "outputs": [],
   "source": [
    "hot = tree_node('Hot',[])\n",
    "cold = tree_node('cold',[])"
   ]
  },
  {
   "cell_type": "code",
   "execution_count": 19,
   "id": "45cf0daf",
   "metadata": {},
   "outputs": [
    {
     "name": "stdout",
     "output_type": "stream",
     "text": [
      "Drinks\n",
      "\n"
     ]
    }
   ],
   "source": [
    "print(tree)"
   ]
  },
  {
   "cell_type": "code",
   "execution_count": 20,
   "id": "b3a05992",
   "metadata": {},
   "outputs": [
    {
     "name": "stdout",
     "output_type": "stream",
     "text": [
      "Drinks\n",
      " _Hot\n",
      " _cold\n",
      "\n"
     ]
    }
   ],
   "source": [
    "tree.add_child(hot)\n",
    "tree.add_child(cold)\n",
    "print(tree)"
   ]
  },
  {
   "cell_type": "code",
   "execution_count": 21,
   "id": "47eef31f",
   "metadata": {},
   "outputs": [
    {
     "data": {
      "text/plain": [
       "[<__main__.tree_node at 0x2071ec17f70>, <__main__.tree_node at 0x2071eb876a0>]"
      ]
     },
     "execution_count": 21,
     "metadata": {},
     "output_type": "execute_result"
    }
   ],
   "source": [
    "tree.children"
   ]
  },
  {
   "cell_type": "code",
   "execution_count": 22,
   "id": "0f975cb4",
   "metadata": {},
   "outputs": [
    {
     "name": "stdout",
     "output_type": "stream",
     "text": [
      "Drinks\n",
      " _Hot\n",
      " _ _tea\n",
      " _ _ _green tea\n",
      " _ _ _black tea\n",
      " _ _coffee\n",
      " _cold\n",
      " _ _water\n",
      " _ _soda\n",
      "\n"
     ]
    }
   ],
   "source": [
    "tea = tree_node('tea',[])\n",
    "coffee = tree_node('coffee',[])\n",
    "water = tree_node('water',[])\n",
    "soda = tree_node('soda',[])\n",
    "hot.add_child(tea)\n",
    "hot.add_child(coffee)\n",
    "cold.add_child(water)\n",
    "cold.add_child(soda)\n",
    "tea.add_child(tree_node('green tea',[]))\n",
    "tea.add_child(tree_node('black tea',[]))\n",
    "\n",
    "print(tree)\n"
   ]
  },
  {
   "cell_type": "markdown",
   "id": "aab751ed",
   "metadata": {},
   "source": [
    "## Binary Tree"
   ]
  },
  {
   "cell_type": "markdown",
   "id": "c393ad8d",
   "metadata": {},
   "source": [
    "### linked list queue for traversal"
   ]
  },
  {
   "cell_type": "code",
   "execution_count": 137,
   "id": "c764f546",
   "metadata": {},
   "outputs": [],
   "source": [
    "class Node:\n",
    "    def __init__(self,value=None):\n",
    "        self.value=value\n",
    "        self.next=None\n",
    "        \n",
    "    def __str__(self):\n",
    "        return str(self.value)\n",
    "        \n",
    "class linked_list:\n",
    "    def __init__(self):\n",
    "        self.head=None\n",
    "        self.tail=None\n",
    "        \n",
    "    def __iter__(self):\n",
    "        temp_node=self.head\n",
    "        while temp_node:\n",
    "            yield temp_node\n",
    "            temp_node=temp_node.next\n",
    "            \n",
    "    \n",
    "class Queue1:\n",
    "    def __init__(self):\n",
    "        self.linked_list = linked_list()\n",
    "    \n",
    "    def __str__(self):\n",
    "        values = [str(x) for x in self.linked_list]\n",
    "        return ' '.join(values)\n",
    "    \n",
    "    def is_empty(self):\n",
    "        if self.linked_list.head is None:\n",
    "            return True\n",
    "        return False\n",
    "    \n",
    "    def enqueue(self,value):\n",
    "        new_node=Node(value)\n",
    "        if self.linked_list.head is None:\n",
    "            self.linked_list.head=new_node\n",
    "            self.linked_list.tail=new_node\n",
    "        else:\n",
    "            self.linked_list.tail.next=new_node\n",
    "            self.linked_list.tail=new_node\n",
    "    \n",
    "    def dequeue(self):\n",
    "        if self.linked_list.head is None:\n",
    "            return \n",
    "        else:\n",
    "            temp_node=self.linked_list.head\n",
    "            if self.linked_list.head==self.linked_list.tail:\n",
    "                self.linked_list.head=None\n",
    "                self.linked_list.tail=None\n",
    "            else:\n",
    "                self.linked_list.head=self.linked_list.head.next\n",
    "            return temp_node"
   ]
  },
  {
   "cell_type": "code",
   "execution_count": 138,
   "id": "e4d30186",
   "metadata": {},
   "outputs": [],
   "source": [
    "new_tree = tree_node('Drinks')"
   ]
  },
  {
   "cell_type": "code",
   "execution_count": 139,
   "id": "b81f9eca",
   "metadata": {},
   "outputs": [],
   "source": [
    "hot = tree_node('hot')\n",
    "cold = tree_node('cold')\n",
    "new_tree.left_child = hot\n",
    "new_tree.right_child = cold"
   ]
  },
  {
   "cell_type": "code",
   "execution_count": 150,
   "id": "e8258429",
   "metadata": {},
   "outputs": [],
   "source": [
    "def preorder_traversal(root_node):\n",
    "    if not root_node:\n",
    "        return\n",
    "    print(root_node.data)\n",
    "    preorder_traversal(root_node.left_child)\n",
    "    preorder_traversal(root_node.right_child)\n",
    "    \n",
    "def inorder_traversal(root_node):\n",
    "    if not root_node:\n",
    "        return None\n",
    "    inorder_traversal(root_node.left_child)\n",
    "    print(root_node.data)\n",
    "    inorder_traversal(root_node.right_child)\n",
    "\n",
    "def postorder_traversal(root_node):\n",
    "    if not root_node:\n",
    "        return \n",
    "    postorder_traversal(root_node.left_child)\n",
    "    postorder_traversal(root_node.right_child)\n",
    "    print(root_node.data)\n",
    "    \n",
    "def levelorder_traversal(root_node):\n",
    "    if not root_node:\n",
    "        return\n",
    "    else:\n",
    "        queue=Queue1()\n",
    "        queue.enqueue(root_node)\n",
    "        while not(queue.is_empty()):\n",
    "            root=queue.dequeue()\n",
    "            print(root.value.data)\n",
    "            if root.value.left_child is not None:\n",
    "                queue.enqueue(root.value.left_child)\n",
    "            if root.value.right_child is not None:\n",
    "                queue.enqueue(root.value.right_child)\n",
    "            "
   ]
  },
  {
   "cell_type": "code",
   "execution_count": 151,
   "id": "71f35006",
   "metadata": {},
   "outputs": [
    {
     "name": "stdout",
     "output_type": "stream",
     "text": [
      "hot\n",
      "Drinks\n",
      "cold\n"
     ]
    }
   ],
   "source": [
    "inorder_traversal(new_tree)"
   ]
  },
  {
   "cell_type": "code",
   "execution_count": 152,
   "id": "432ce61d",
   "metadata": {
    "scrolled": true
   },
   "outputs": [
    {
     "name": "stdout",
     "output_type": "stream",
     "text": [
      "Drinks\n",
      "hot\n",
      "cold\n"
     ]
    }
   ],
   "source": [
    "preorder_traversal(new_tree)"
   ]
  },
  {
   "cell_type": "code",
   "execution_count": 153,
   "id": "70868ea3",
   "metadata": {},
   "outputs": [
    {
     "name": "stdout",
     "output_type": "stream",
     "text": [
      "hot\n",
      "cold\n",
      "Drinks\n"
     ]
    }
   ],
   "source": [
    "postorder_traversal(new_tree)"
   ]
  },
  {
   "cell_type": "code",
   "execution_count": 154,
   "id": "5c61ea78",
   "metadata": {},
   "outputs": [
    {
     "name": "stdout",
     "output_type": "stream",
     "text": [
      "Drinks\n",
      "hot\n",
      "cold\n"
     ]
    }
   ],
   "source": [
    "levelorder_traversal(new_tree)"
   ]
  },
  {
   "cell_type": "code",
   "execution_count": null,
   "id": "aedbf4ca",
   "metadata": {},
   "outputs": [],
   "source": []
  }
 ],
 "metadata": {
  "kernelspec": {
   "display_name": "Python 3 (ipykernel)",
   "language": "python",
   "name": "python3"
  },
  "language_info": {
   "codemirror_mode": {
    "name": "ipython",
    "version": 3
   },
   "file_extension": ".py",
   "mimetype": "text/x-python",
   "name": "python",
   "nbconvert_exporter": "python",
   "pygments_lexer": "ipython3",
   "version": "3.9.12"
  }
 },
 "nbformat": 4,
 "nbformat_minor": 5
}
