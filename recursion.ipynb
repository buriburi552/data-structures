{
 "cells": [
  {
   "cell_type": "code",
   "execution_count": 1,
   "id": "f6f13f77",
   "metadata": {},
   "outputs": [],
   "source": [
    "def sum_of_digits(num):\n",
    "    if num<10:\n",
    "        return num\n",
    "    else:\n",
    "        return (num%10 + sum_of_digits(num//10))"
   ]
  },
  {
   "cell_type": "code",
   "execution_count": 2,
   "id": "bb9c649d",
   "metadata": {},
   "outputs": [
    {
     "data": {
      "text/plain": [
       "(0, 12, 21)"
      ]
     },
     "execution_count": 2,
     "metadata": {},
     "output_type": "execute_result"
    }
   ],
   "source": [
    "sum_of_digits(0), sum_of_digits(57), sum_of_digits(3242334)"
   ]
  },
  {
   "cell_type": "code",
   "execution_count": 3,
   "id": "677722da",
   "metadata": {},
   "outputs": [],
   "source": [
    "def power(exp,po):\n",
    "    if po==0:\n",
    "        return 1\n",
    "    else:\n",
    "        return (exp*power(exp,po-1))"
   ]
  },
  {
   "cell_type": "code",
   "execution_count": 4,
   "id": "dd5ac02b",
   "metadata": {},
   "outputs": [
    {
     "data": {
      "text/plain": [
       "(27, 10000, 1)"
      ]
     },
     "execution_count": 4,
     "metadata": {},
     "output_type": "execute_result"
    }
   ],
   "source": [
    "power(3,3),power(10,4),power(1,10)"
   ]
  },
  {
   "cell_type": "code",
   "execution_count": 5,
   "id": "d7dacbea",
   "metadata": {},
   "outputs": [],
   "source": [
    "def GDC(a,b):\n",
    "    if a%b==0:\n",
    "        return b\n",
    "    else:\n",
    "        return(GDC(b,a%b))"
   ]
  },
  {
   "cell_type": "code",
   "execution_count": 6,
   "id": "500d1a3a",
   "metadata": {},
   "outputs": [
    {
     "data": {
      "text/plain": [
       "(3, 1, 1, 20)"
      ]
     },
     "execution_count": 6,
     "metadata": {},
     "output_type": "execute_result"
    }
   ],
   "source": [
    "GDC(15,12), GDC(4,1), GDC(500,3), GDC(20,100)"
   ]
  },
  {
   "cell_type": "code",
   "execution_count": 7,
   "id": "c1a49960",
   "metadata": {},
   "outputs": [],
   "source": [
    "def dec_toBinary(num):\n",
    "    if num in [1,0]:\n",
    "        return num\n",
    "    return ((num%2)+ 10*(dec_toBinary(num//2)))"
   ]
  },
  {
   "cell_type": "code",
   "execution_count": 8,
   "id": "33b75ef4",
   "metadata": {},
   "outputs": [
    {
     "data": {
      "text/plain": [
       "(101111, 100, 1, 0)"
      ]
     },
     "execution_count": 8,
     "metadata": {},
     "output_type": "execute_result"
    }
   ],
   "source": [
    "dec_toBinary(47), dec_toBinary(4), dec_toBinary(1), dec_toBinary(0)"
   ]
  },
  {
   "cell_type": "code",
   "execution_count": 9,
   "id": "207a90ac",
   "metadata": {},
   "outputs": [],
   "source": [
    "def factorial(num):\n",
    "    if num in [0,1]:\n",
    "        return 1\n",
    "    else:\n",
    "        return num*factorial(num-1)"
   ]
  },
  {
   "cell_type": "code",
   "execution_count": 10,
   "id": "d36fe64a",
   "metadata": {},
   "outputs": [
    {
     "data": {
      "text/plain": [
       "(120, 1, 1)"
      ]
     },
     "execution_count": 10,
     "metadata": {},
     "output_type": "execute_result"
    }
   ],
   "source": [
    "factorial(5), factorial(0), factorial(1)"
   ]
  },
  {
   "cell_type": "code",
   "execution_count": 11,
   "id": "9d2aaf63",
   "metadata": {},
   "outputs": [],
   "source": [
    "def prod_ofArray(ar):\n",
    "    if len(ar)==1:\n",
    "        return ar[0]\n",
    "    else:\n",
    "        return (ar[-1]*prod_ofArray(ar[0:-1]))"
   ]
  },
  {
   "cell_type": "code",
   "execution_count": 12,
   "id": "747c25eb",
   "metadata": {},
   "outputs": [
    {
     "data": {
      "text/plain": [
       "(120, 1, 2111184)"
      ]
     },
     "execution_count": 12,
     "metadata": {},
     "output_type": "execute_result"
    }
   ],
   "source": [
    "prod_ofArray([1,2,3,4,5]), prod_ofArray([1]), prod_ofArray([12,324,543])"
   ]
  },
  {
   "cell_type": "code",
   "execution_count": 13,
   "id": "fd23e93a",
   "metadata": {},
   "outputs": [],
   "source": [
    "def recursive_range(num):\n",
    "    if num==1:\n",
    "        return 1\n",
    "    else:\n",
    "        return (num+(recursive_range(num-1)))"
   ]
  },
  {
   "cell_type": "code",
   "execution_count": 14,
   "id": "691626f9",
   "metadata": {},
   "outputs": [
    {
     "data": {
      "text/plain": [
       "(21, 55)"
      ]
     },
     "execution_count": 14,
     "metadata": {},
     "output_type": "execute_result"
    }
   ],
   "source": [
    "recursive_range(6), recursive_range(10)"
   ]
  },
  {
   "cell_type": "code",
   "execution_count": 15,
   "id": "497d78bc",
   "metadata": {},
   "outputs": [],
   "source": [
    "def fibonacci(n):\n",
    "    if n==1:\n",
    "        return 0\n",
    "    elif n==2:\n",
    "        return 1\n",
    "    else:\n",
    "        return (fibonacci(n-2)+fibonacci(n-1))\n",
    "    "
   ]
  },
  {
   "cell_type": "code",
   "execution_count": 17,
   "id": "d3e021b2",
   "metadata": {},
   "outputs": [
    {
     "data": {
      "text/plain": [
       "(1, 34, 4181)"
      ]
     },
     "execution_count": 17,
     "metadata": {},
     "output_type": "execute_result"
    }
   ],
   "source": [
    "fibonacci(3), fibonacci(10), fibonacci(20)"
   ]
  },
  {
   "cell_type": "code",
   "execution_count": 32,
   "id": "191fd4cc",
   "metadata": {},
   "outputs": [],
   "source": [
    "def reverse(string):\n",
    "    if len(string)==1:\n",
    "        return string[0]\n",
    "    else:\n",
    "        return string[-1]+(reverse(string[0:-1]))"
   ]
  },
  {
   "cell_type": "code",
   "execution_count": 34,
   "id": "16beca4a",
   "metadata": {},
   "outputs": [
    {
     "data": {
      "text/plain": [
       "('elppa', 'elppaenip')"
      ]
     },
     "execution_count": 34,
     "metadata": {},
     "output_type": "execute_result"
    }
   ],
   "source": [
    "reverse('apple'), reverse('pineapple')"
   ]
  },
  {
   "cell_type": "code",
   "execution_count": 73,
   "id": "be75fc11",
   "metadata": {},
   "outputs": [],
   "source": [
    "def is_palindrome(string):\n",
    "    if len(string)==1:\n",
    "        return True\n",
    "    if string[0] == string[-1]:\n",
    "        return is_palindrome(string[1:-1])\n",
    "    else:\n",
    "        return False"
   ]
  },
  {
   "cell_type": "code",
   "execution_count": 74,
   "id": "ae95d782",
   "metadata": {},
   "outputs": [
    {
     "data": {
      "text/plain": [
       "(True, False)"
      ]
     },
     "execution_count": 74,
     "metadata": {},
     "output_type": "execute_result"
    }
   ],
   "source": [
    "is_palindrome('tacocat'), is_palindrome('pineapple')"
   ]
  },
  {
   "cell_type": "code",
   "execution_count": 75,
   "id": "c4253bb4",
   "metadata": {},
   "outputs": [],
   "source": [
    "def is_odd(num):\n",
    "    if num%2==1:\n",
    "        return True\n",
    "    return False\n",
    "\n",
    "def some_recursive(ar, callback):\n",
    "    if len(ar)==0:\n",
    "        return False\n",
    "    else:\n",
    "        if not is_odd(ar[0]):\n",
    "            return some_recursive[1:]\n",
    "        else:\n",
    "            return True"
   ]
  },
  {
   "cell_type": "code",
   "execution_count": 76,
   "id": "fe1f1bb8",
   "metadata": {},
   "outputs": [
    {
     "data": {
      "text/plain": [
       "True"
      ]
     },
     "execution_count": 76,
     "metadata": {},
     "output_type": "execute_result"
    }
   ],
   "source": [
    "some_recursive([1,2,3,4],is_odd)"
   ]
  },
  {
   "cell_type": "code",
   "execution_count": 91,
   "id": "be46fc41",
   "metadata": {},
   "outputs": [],
   "source": [
    "def flatten(ar):\n",
    "    temp = []\n",
    "    for i in ar:\n",
    "        if type(i) is list:\n",
    "            temp.extend(flatten(i))\n",
    "        else:\n",
    "            temp.append(i)\n",
    "    return temp"
   ]
  },
  {
   "cell_type": "code",
   "execution_count": 92,
   "id": "88233a47",
   "metadata": {},
   "outputs": [
    {
     "name": "stdout",
     "output_type": "stream",
     "text": [
      "[1, 2, 3, 4, 5, 6, 7]\n"
     ]
    }
   ],
   "source": [
    "print(flatten([1,2,3,[4,5],[6,7]]))"
   ]
  },
  {
   "cell_type": "code",
   "execution_count": 95,
   "id": "071b0577",
   "metadata": {},
   "outputs": [],
   "source": [
    "def capitalize_first(ar):\n",
    "    temp = []\n",
    "    if len(ar)==1:\n",
    "        temp.append(ar[0].capitalize())\n",
    "    else:\n",
    "        temp.append(capitalize_first(ar[1:]))\n",
    "    return temp"
   ]
  },
  {
   "cell_type": "code",
   "execution_count": 96,
   "id": "899d9489",
   "metadata": {},
   "outputs": [
    {
     "name": "stdout",
     "output_type": "stream",
     "text": [
      "[[['Banana']]]\n"
     ]
    }
   ],
   "source": [
    "print(capitalize_first(['car', 'taco', 'banana']))"
   ]
  },
  {
   "cell_type": "code",
   "execution_count": null,
   "id": "c1401f22",
   "metadata": {},
   "outputs": [],
   "source": []
  }
 ],
 "metadata": {
  "kernelspec": {
   "display_name": "Python 3 (ipykernel)",
   "language": "python",
   "name": "python3"
  },
  "language_info": {
   "codemirror_mode": {
    "name": "ipython",
    "version": 3
   },
   "file_extension": ".py",
   "mimetype": "text/x-python",
   "name": "python",
   "nbconvert_exporter": "python",
   "pygments_lexer": "ipython3",
   "version": "3.9.12"
  }
 },
 "nbformat": 4,
 "nbformat_minor": 5
}
