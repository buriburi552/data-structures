{
 "cells": [
  {
   "cell_type": "code",
   "execution_count": 1,
   "id": "11b15784",
   "metadata": {},
   "outputs": [],
   "source": [
    "def missing_number(ar):\n",
    "    for i in range(1,101):\n",
    "        if i not in ar:\n",
    "            print(i)"
   ]
  },
  {
   "cell_type": "code",
   "execution_count": 15,
   "id": "6c6626d5",
   "metadata": {},
   "outputs": [],
   "source": [
    "def two_sum(ar,ans):\n",
    "    for i in range(len(ar)):\n",
    "        for j in range(i+1,len(ar)):\n",
    "            if ar[i]+ar[j] == ans:\n",
    "                return i,j"
   ]
  },
  {
   "cell_type": "code",
   "execution_count": 17,
   "id": "90826b6e",
   "metadata": {},
   "outputs": [
    {
     "data": {
      "text/plain": [
       "(2, 3)"
      ]
     },
     "execution_count": 17,
     "metadata": {},
     "output_type": "execute_result"
    }
   ],
   "source": [
    "two_sum([2,7,11,15],26)"
   ]
  },
  {
   "cell_type": "code",
   "execution_count": 18,
   "id": "e0e142f8",
   "metadata": {},
   "outputs": [],
   "source": [
    "def max_prod(ar):\n",
    "    temp=0\n",
    "    for i in range(len(ar)):\n",
    "        for j in range(i+1,len(ar)):\n",
    "            if ar[i]*ar[j]>temp:\n",
    "                temp=ar[i]*ar[j]\n",
    "    return temp"
   ]
  },
  {
   "cell_type": "code",
   "execution_count": 19,
   "id": "e4a067f4",
   "metadata": {},
   "outputs": [
    {
     "data": {
      "text/plain": [
       "12"
      ]
     },
     "execution_count": 19,
     "metadata": {},
     "output_type": "execute_result"
    }
   ],
   "source": [
    "max_prod([1,2,3,4])"
   ]
  },
  {
   "cell_type": "code",
   "execution_count": 22,
   "id": "e940d759",
   "metadata": {},
   "outputs": [],
   "source": [
    "def is_unique(ar):\n",
    "    temp=ar[0]\n",
    "    for i in ar[1:]:\n",
    "        if temp==i:\n",
    "            return False\n",
    "        else:\n",
    "            temp=i\n",
    "    return True"
   ]
  },
  {
   "cell_type": "code",
   "execution_count": 24,
   "id": "bd49b03f",
   "metadata": {},
   "outputs": [
    {
     "data": {
      "text/plain": [
       "(False, True)"
      ]
     },
     "execution_count": 24,
     "metadata": {},
     "output_type": "execute_result"
    }
   ],
   "source": [
    "is_unique([1,2,3,4,4,5,5]), is_unique([1,2,3,4])"
   ]
  },
  {
   "cell_type": "code",
   "execution_count": 25,
   "id": "02127b76",
   "metadata": {},
   "outputs": [],
   "source": [
    "def is_permutation(ar1,ar2):\n",
    "    Flag=True\n",
    "    if len(ar1)!=len(ar2):\n",
    "        Flag=False\n",
    "    else:\n",
    "        for i in ar1:\n",
    "            if i in ar2:\n",
    "                Flag=True\n",
    "            else:\n",
    "                Flag=False\n",
    "                return Flag\n",
    "    return Flag"
   ]
  },
  {
   "cell_type": "code",
   "execution_count": 31,
   "id": "9d63a484",
   "metadata": {},
   "outputs": [
    {
     "data": {
      "text/plain": [
       "(False, True)"
      ]
     },
     "execution_count": 31,
     "metadata": {},
     "output_type": "execute_result"
    }
   ],
   "source": [
    "is_permutation(['a','b'],['b','b',['b']]), is_permutation(['a','b'],['b','a'])"
   ]
  },
  {
   "cell_type": "code",
   "execution_count": 66,
   "id": "a237434f",
   "metadata": {},
   "outputs": [
    {
     "data": {
      "text/plain": [
       "[[7, 4, 1], [8, 5, 2], [9, 6, 3]]"
      ]
     },
     "execution_count": 66,
     "metadata": {},
     "output_type": "execute_result"
    }
   ],
   "source": [
    "matrix = [[1,2,3],[4,5,6],[7,8,9]]\n",
    "def rotate_matrix(matrix):\n",
    "    rotated_matrix = []\n",
    "    \n",
    "    for i in range(len(matrix)):\n",
    "        temp_matrix=[]\n",
    "        for j in range(len(matrix[i])-1,-1,-1):\n",
    "            temp_matrix.append(matrix[j][i])\n",
    "        rotated_matrix.append(temp_matrix)\n",
    "    return rotated_matrix\n",
    "\n",
    "rotate_matrix(matrix)"
   ]
  },
  {
   "cell_type": "code",
   "execution_count": 69,
   "id": "c208ed09",
   "metadata": {},
   "outputs": [
    {
     "data": {
      "text/plain": [
       "[2, 3]"
      ]
     },
     "execution_count": 69,
     "metadata": {},
     "output_type": "execute_result"
    }
   ],
   "source": [
    "def middle_func(l):\n",
    "    return l[1:-1]\n",
    "\n",
    "middle_func([1,2,3,4re])"
   ]
  },
  {
   "cell_type": "code",
   "execution_count": 75,
   "id": "1d14f050",
   "metadata": {},
   "outputs": [],
   "source": [
    "def sum_diag(lst):\n",
    "    prod=0\n",
    "    for i in range(len(lst)):\n",
    "        prod+=lst[i][i]\n",
    "    return prod"
   ]
  },
  {
   "cell_type": "code",
   "execution_count": 76,
   "id": "289caa50",
   "metadata": {},
   "outputs": [
    {
     "data": {
      "text/plain": [
       "15"
      ]
     },
     "execution_count": 76,
     "metadata": {},
     "output_type": "execute_result"
    }
   ],
   "source": [
    "sum_diag([[1,2,3],[4,5,6],[7,8,9]])"
   ]
  },
  {
   "cell_type": "code",
   "execution_count": 85,
   "id": "4f26cce0",
   "metadata": {},
   "outputs": [],
   "source": [
    "def two_best(lst):\n",
    "    temp=lst[0]\n",
    "    for i in lst:\n",
    "        if i>temp:\n",
    "            temp=i\n",
    "    lst.remove(temp)\n",
    "    temp2 = lst[0]\n",
    "    for i in lst:\n",
    "        if i>temp2:\n",
    "            temp2=i\n",
    "    return (temp,temp2)"
   ]
  },
  {
   "cell_type": "code",
   "execution_count": 86,
   "id": "a7ddc291",
   "metadata": {},
   "outputs": [
    {
     "data": {
      "text/plain": [
       "(90, 87)"
      ]
     },
     "execution_count": 86,
     "metadata": {},
     "output_type": "execute_result"
    }
   ],
   "source": [
    "two_best([84,85,86,87,85,90,85,83,23,45,84,1,2,0])"
   ]
  },
  {
   "cell_type": "code",
   "execution_count": 89,
   "id": "94949d35",
   "metadata": {},
   "outputs": [],
   "source": [
    "def remove_dup(lst):\n",
    "    temp=[]\n",
    "    for i in lst:\n",
    "        if i not in temp:\n",
    "            temp.append(i)\n",
    "    return temp"
   ]
  },
  {
   "cell_type": "code",
   "execution_count": 90,
   "id": "982771b7",
   "metadata": {},
   "outputs": [
    {
     "data": {
      "text/plain": [
       "[1, 2, 3, 4, 5]"
      ]
     },
     "execution_count": 90,
     "metadata": {},
     "output_type": "execute_result"
    }
   ],
   "source": [
    "remove_dup([1,2,2,3,4,5])"
   ]
  },
  {
   "cell_type": "code",
   "execution_count": 91,
   "id": "394c2786",
   "metadata": {},
   "outputs": [],
   "source": [
    "def pair_sum(lst,num):\n",
    "    ans=[]\n",
    "    for i in range(len(lst)):\n",
    "        for j in range(i,len(lst)):\n",
    "            if lst[i]+lst[j]==num:\n",
    "                ans.append([lst[i],lst[j]])\n",
    "    return ans"
   ]
  },
  {
   "cell_type": "code",
   "execution_count": 92,
   "id": "440e1664",
   "metadata": {},
   "outputs": [
    {
     "data": {
      "text/plain": [
       "[[2, 5], [4, 3], [3, 4], [-2, 9]]"
      ]
     },
     "execution_count": 92,
     "metadata": {},
     "output_type": "execute_result"
    }
   ],
   "source": [
    "pair_sum([2, 4, 3, 5, 6, -2, 4, 7, 8, 9],7)"
   ]
  },
  {
   "cell_type": "code",
   "execution_count": 98,
   "id": "9f793210",
   "metadata": {},
   "outputs": [],
   "source": [
    "def pair_sum(lst,num):\n",
    "    ans=[]\n",
    "    for i in range(len(lst)):\n",
    "        for j in range(i,len(lst)):\n",
    "            if lst[i]+lst[j]==num:\n",
    "                ans.append(''+str(lst[i])+\"+\"+str(lst[j])+'')\n",
    "    return ans"
   ]
  },
  {
   "cell_type": "code",
   "execution_count": 99,
   "id": "ddd13e1e",
   "metadata": {},
   "outputs": [
    {
     "data": {
      "text/plain": [
       "['2+5', '4+3', '3+4', '-2+9']"
      ]
     },
     "execution_count": 99,
     "metadata": {},
     "output_type": "execute_result"
    }
   ],
   "source": [
    "pair_sum([2, 4, 3, 5, 6, -2, 4, 7, 8, 9],7)"
   ]
  },
  {
   "cell_type": "code",
   "execution_count": null,
   "id": "14982556",
   "metadata": {},
   "outputs": [],
   "source": []
  }
 ],
 "metadata": {
  "kernelspec": {
   "display_name": "Python 3 (ipykernel)",
   "language": "python",
   "name": "python3"
  },
  "language_info": {
   "codemirror_mode": {
    "name": "ipython",
    "version": 3
   },
   "file_extension": ".py",
   "mimetype": "text/x-python",
   "name": "python",
   "nbconvert_exporter": "python",
   "pygments_lexer": "ipython3",
   "version": "3.9.12"
  }
 },
 "nbformat": 4,
 "nbformat_minor": 5
}
