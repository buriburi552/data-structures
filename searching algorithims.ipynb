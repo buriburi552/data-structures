{
 "cells": [
  {
   "cell_type": "code",
   "execution_count": 1,
   "id": "c9d60cfe",
   "metadata": {},
   "outputs": [],
   "source": [
    "def linear_search(a,value):\n",
    "    for i in range(len(a)):\n",
    "        if a[i]==value:\n",
    "            return i\n",
    "    return 'not found'"
   ]
  },
  {
   "cell_type": "code",
   "execution_count": 2,
   "id": "ac1b6cb6",
   "metadata": {},
   "outputs": [
    {
     "data": {
      "text/plain": [
       "0"
      ]
     },
     "execution_count": 2,
     "metadata": {},
     "output_type": "execute_result"
    }
   ],
   "source": [
    "linear_search([4,3,2,1],4)"
   ]
  },
  {
   "cell_type": "code",
   "execution_count": 10,
   "id": "60de14ca",
   "metadata": {},
   "outputs": [],
   "source": [
    "import math\n",
    "def bubble_sort(a):\n",
    "    for i in range(len(a)-1):\n",
    "        for j in range(len(a)-i-1):\n",
    "            if a[j]>a[j+1]:\n",
    "                a[j],a[j+1]=a[j+1],a[j]\n",
    "\n",
    "\n",
    "\n",
    "def binary_search(a,value):\n",
    "    start = 0\n",
    "    end = len(a)-1\n",
    "    middle = math.floor((start+end)/2)\n",
    "    while a[middle]!=value:\n",
    "        print(start,middle,end)\n",
    "        if a[middle]<a[value]:\n",
    "            start=middle+1\n",
    "        else:\n",
    "            end = middle-1\n",
    "        middle = math.floor((start+end)/2)\n",
    "    if a[middle]==value:\n",
    "        return middle\n",
    "    else:\n",
    "        return 'not found'"
   ]
  },
  {
   "cell_type": "code",
   "execution_count": 12,
   "id": "5eb19883",
   "metadata": {},
   "outputs": [
    {
     "data": {
      "text/plain": [
       "4"
      ]
     },
     "execution_count": 12,
     "metadata": {},
     "output_type": "execute_result"
    }
   ],
   "source": [
    "binary_search([1,2,3,4,5,6,7,8,9],5)"
   ]
  },
  {
   "cell_type": "code",
   "execution_count": null,
   "id": "4574e142",
   "metadata": {},
   "outputs": [],
   "source": []
  }
 ],
 "metadata": {
  "kernelspec": {
   "display_name": "Python 3 (ipykernel)",
   "language": "python",
   "name": "python3"
  },
  "language_info": {
   "codemirror_mode": {
    "name": "ipython",
    "version": 3
   },
   "file_extension": ".py",
   "mimetype": "text/x-python",
   "name": "python",
   "nbconvert_exporter": "python",
   "pygments_lexer": "ipython3",
   "version": "3.9.12"
  }
 },
 "nbformat": 4,
 "nbformat_minor": 5
}
